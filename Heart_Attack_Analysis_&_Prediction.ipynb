{
  "nbformat": 4,
  "nbformat_minor": 0,
  "metadata": {
    "colab": {
      "provenance": [],
      "toc_visible": true
    },
    "kernelspec": {
      "name": "python3",
      "display_name": "Python 3"
    },
    "language_info": {
      "name": "python"
    }
  },
  "cells": [
    {
      "cell_type": "markdown",
      "source": [
        "# **Heart Attack Prediction with Machine Learning**"
      ],
      "metadata": {
        "id": "SEdRbj0DCJbR"
      }
    },
    {
      "cell_type": "markdown",
      "source": [
        "## **Import necessary libraries**"
      ],
      "metadata": {
        "id": "C_-zN2CE1DMP"
      }
    },
    {
      "cell_type": "code",
      "source": [
        "import numpy as np\n",
        "import pandas as pd\n",
        "import matplotlib.pyplot as plt\n",
        "import seaborn as sns\n",
        "from sklearn.ensemble import RandomForestClassifier, VotingClassifier\n",
        "from sklearn.svm import SVC\n",
        "from sklearn.linear_model import LogisticRegression\n",
        "from sklearn.metrics import confusion_matrix\n",
        "from sklearn.preprocessing import StandardScaler\n",
        "from sklearn.model_selection import train_test_split, cross_val_score\n",
        "from sklearn.neighbors import KNeighborsClassifier\n",
        "from tensorflow.keras.models import Sequential\n",
        "from tensorflow.keras.layers import Dense, Dropout\n",
        "from tensorflow.keras.optimizers import Adam"
      ],
      "metadata": {
        "id": "rqXMk94TCySO"
      },
      "execution_count": 1,
      "outputs": []
    },
    {
      "cell_type": "markdown",
      "source": [
        "## **Initial Data Exploration**"
      ],
      "metadata": {
        "id": "b2x9UXbd1_eI"
      }
    },
    {
      "cell_type": "code",
      "source": [
        "df = pd.read_csv('/content/heart.csv')\n",
        "df.head()"
      ],
      "metadata": {
        "colab": {
          "base_uri": "https://localhost:8080/",
          "height": 206
        },
        "id": "xHD7-uUf2AYl",
        "outputId": "63aecb06-8714-47e7-dc5f-31e84621f78a"
      },
      "execution_count": 2,
      "outputs": [
        {
          "output_type": "execute_result",
          "data": {
            "text/plain": [
              "   age  sex  cp  trtbps  chol  fbs  restecg  thalachh  exng  oldpeak  slp  \\\n",
              "0   63    1   3     145   233    1        0       150     0      2.3    0   \n",
              "1   37    1   2     130   250    0        1       187     0      3.5    0   \n",
              "2   41    0   1     130   204    0        0       172     0      1.4    2   \n",
              "3   56    1   1     120   236    0        1       178     0      0.8    2   \n",
              "4   57    0   0     120   354    0        1       163     1      0.6    2   \n",
              "\n",
              "   caa  thall  output  \n",
              "0    0      1       1  \n",
              "1    0      2       1  \n",
              "2    0      2       1  \n",
              "3    0      2       1  \n",
              "4    0      2       1  "
            ],
            "text/html": [
              "\n",
              "  <div id=\"df-657cf2b7-132d-45e3-bf49-c7aa5491c14d\" class=\"colab-df-container\">\n",
              "    <div>\n",
              "<style scoped>\n",
              "    .dataframe tbody tr th:only-of-type {\n",
              "        vertical-align: middle;\n",
              "    }\n",
              "\n",
              "    .dataframe tbody tr th {\n",
              "        vertical-align: top;\n",
              "    }\n",
              "\n",
              "    .dataframe thead th {\n",
              "        text-align: right;\n",
              "    }\n",
              "</style>\n",
              "<table border=\"1\" class=\"dataframe\">\n",
              "  <thead>\n",
              "    <tr style=\"text-align: right;\">\n",
              "      <th></th>\n",
              "      <th>age</th>\n",
              "      <th>sex</th>\n",
              "      <th>cp</th>\n",
              "      <th>trtbps</th>\n",
              "      <th>chol</th>\n",
              "      <th>fbs</th>\n",
              "      <th>restecg</th>\n",
              "      <th>thalachh</th>\n",
              "      <th>exng</th>\n",
              "      <th>oldpeak</th>\n",
              "      <th>slp</th>\n",
              "      <th>caa</th>\n",
              "      <th>thall</th>\n",
              "      <th>output</th>\n",
              "    </tr>\n",
              "  </thead>\n",
              "  <tbody>\n",
              "    <tr>\n",
              "      <th>0</th>\n",
              "      <td>63</td>\n",
              "      <td>1</td>\n",
              "      <td>3</td>\n",
              "      <td>145</td>\n",
              "      <td>233</td>\n",
              "      <td>1</td>\n",
              "      <td>0</td>\n",
              "      <td>150</td>\n",
              "      <td>0</td>\n",
              "      <td>2.3</td>\n",
              "      <td>0</td>\n",
              "      <td>0</td>\n",
              "      <td>1</td>\n",
              "      <td>1</td>\n",
              "    </tr>\n",
              "    <tr>\n",
              "      <th>1</th>\n",
              "      <td>37</td>\n",
              "      <td>1</td>\n",
              "      <td>2</td>\n",
              "      <td>130</td>\n",
              "      <td>250</td>\n",
              "      <td>0</td>\n",
              "      <td>1</td>\n",
              "      <td>187</td>\n",
              "      <td>0</td>\n",
              "      <td>3.5</td>\n",
              "      <td>0</td>\n",
              "      <td>0</td>\n",
              "      <td>2</td>\n",
              "      <td>1</td>\n",
              "    </tr>\n",
              "    <tr>\n",
              "      <th>2</th>\n",
              "      <td>41</td>\n",
              "      <td>0</td>\n",
              "      <td>1</td>\n",
              "      <td>130</td>\n",
              "      <td>204</td>\n",
              "      <td>0</td>\n",
              "      <td>0</td>\n",
              "      <td>172</td>\n",
              "      <td>0</td>\n",
              "      <td>1.4</td>\n",
              "      <td>2</td>\n",
              "      <td>0</td>\n",
              "      <td>2</td>\n",
              "      <td>1</td>\n",
              "    </tr>\n",
              "    <tr>\n",
              "      <th>3</th>\n",
              "      <td>56</td>\n",
              "      <td>1</td>\n",
              "      <td>1</td>\n",
              "      <td>120</td>\n",
              "      <td>236</td>\n",
              "      <td>0</td>\n",
              "      <td>1</td>\n",
              "      <td>178</td>\n",
              "      <td>0</td>\n",
              "      <td>0.8</td>\n",
              "      <td>2</td>\n",
              "      <td>0</td>\n",
              "      <td>2</td>\n",
              "      <td>1</td>\n",
              "    </tr>\n",
              "    <tr>\n",
              "      <th>4</th>\n",
              "      <td>57</td>\n",
              "      <td>0</td>\n",
              "      <td>0</td>\n",
              "      <td>120</td>\n",
              "      <td>354</td>\n",
              "      <td>0</td>\n",
              "      <td>1</td>\n",
              "      <td>163</td>\n",
              "      <td>1</td>\n",
              "      <td>0.6</td>\n",
              "      <td>2</td>\n",
              "      <td>0</td>\n",
              "      <td>2</td>\n",
              "      <td>1</td>\n",
              "    </tr>\n",
              "  </tbody>\n",
              "</table>\n",
              "</div>\n",
              "    <div class=\"colab-df-buttons\">\n",
              "\n",
              "  <div class=\"colab-df-container\">\n",
              "    <button class=\"colab-df-convert\" onclick=\"convertToInteractive('df-657cf2b7-132d-45e3-bf49-c7aa5491c14d')\"\n",
              "            title=\"Convert this dataframe to an interactive table.\"\n",
              "            style=\"display:none;\">\n",
              "\n",
              "  <svg xmlns=\"http://www.w3.org/2000/svg\" height=\"24px\" viewBox=\"0 -960 960 960\">\n",
              "    <path d=\"M120-120v-720h720v720H120Zm60-500h600v-160H180v160Zm220 220h160v-160H400v160Zm0 220h160v-160H400v160ZM180-400h160v-160H180v160Zm440 0h160v-160H620v160ZM180-180h160v-160H180v160Zm440 0h160v-160H620v160Z\"/>\n",
              "  </svg>\n",
              "    </button>\n",
              "\n",
              "  <style>\n",
              "    .colab-df-container {\n",
              "      display:flex;\n",
              "      gap: 12px;\n",
              "    }\n",
              "\n",
              "    .colab-df-convert {\n",
              "      background-color: #E8F0FE;\n",
              "      border: none;\n",
              "      border-radius: 50%;\n",
              "      cursor: pointer;\n",
              "      display: none;\n",
              "      fill: #1967D2;\n",
              "      height: 32px;\n",
              "      padding: 0 0 0 0;\n",
              "      width: 32px;\n",
              "    }\n",
              "\n",
              "    .colab-df-convert:hover {\n",
              "      background-color: #E2EBFA;\n",
              "      box-shadow: 0px 1px 2px rgba(60, 64, 67, 0.3), 0px 1px 3px 1px rgba(60, 64, 67, 0.15);\n",
              "      fill: #174EA6;\n",
              "    }\n",
              "\n",
              "    .colab-df-buttons div {\n",
              "      margin-bottom: 4px;\n",
              "    }\n",
              "\n",
              "    [theme=dark] .colab-df-convert {\n",
              "      background-color: #3B4455;\n",
              "      fill: #D2E3FC;\n",
              "    }\n",
              "\n",
              "    [theme=dark] .colab-df-convert:hover {\n",
              "      background-color: #434B5C;\n",
              "      box-shadow: 0px 1px 3px 1px rgba(0, 0, 0, 0.15);\n",
              "      filter: drop-shadow(0px 1px 2px rgba(0, 0, 0, 0.3));\n",
              "      fill: #FFFFFF;\n",
              "    }\n",
              "  </style>\n",
              "\n",
              "    <script>\n",
              "      const buttonEl =\n",
              "        document.querySelector('#df-657cf2b7-132d-45e3-bf49-c7aa5491c14d button.colab-df-convert');\n",
              "      buttonEl.style.display =\n",
              "        google.colab.kernel.accessAllowed ? 'block' : 'none';\n",
              "\n",
              "      async function convertToInteractive(key) {\n",
              "        const element = document.querySelector('#df-657cf2b7-132d-45e3-bf49-c7aa5491c14d');\n",
              "        const dataTable =\n",
              "          await google.colab.kernel.invokeFunction('convertToInteractive',\n",
              "                                                    [key], {});\n",
              "        if (!dataTable) return;\n",
              "\n",
              "        const docLinkHtml = 'Like what you see? Visit the ' +\n",
              "          '<a target=\"_blank\" href=https://colab.research.google.com/notebooks/data_table.ipynb>data table notebook</a>'\n",
              "          + ' to learn more about interactive tables.';\n",
              "        element.innerHTML = '';\n",
              "        dataTable['output_type'] = 'display_data';\n",
              "        await google.colab.output.renderOutput(dataTable, element);\n",
              "        const docLink = document.createElement('div');\n",
              "        docLink.innerHTML = docLinkHtml;\n",
              "        element.appendChild(docLink);\n",
              "      }\n",
              "    </script>\n",
              "  </div>\n",
              "\n",
              "\n",
              "<div id=\"df-793ba564-a560-417f-80a4-d5c4cceeea15\">\n",
              "  <button class=\"colab-df-quickchart\" onclick=\"quickchart('df-793ba564-a560-417f-80a4-d5c4cceeea15')\"\n",
              "            title=\"Suggest charts\"\n",
              "            style=\"display:none;\">\n",
              "\n",
              "<svg xmlns=\"http://www.w3.org/2000/svg\" height=\"24px\"viewBox=\"0 0 24 24\"\n",
              "     width=\"24px\">\n",
              "    <g>\n",
              "        <path d=\"M19 3H5c-1.1 0-2 .9-2 2v14c0 1.1.9 2 2 2h14c1.1 0 2-.9 2-2V5c0-1.1-.9-2-2-2zM9 17H7v-7h2v7zm4 0h-2V7h2v10zm4 0h-2v-4h2v4z\"/>\n",
              "    </g>\n",
              "</svg>\n",
              "  </button>\n",
              "\n",
              "<style>\n",
              "  .colab-df-quickchart {\n",
              "      --bg-color: #E8F0FE;\n",
              "      --fill-color: #1967D2;\n",
              "      --hover-bg-color: #E2EBFA;\n",
              "      --hover-fill-color: #174EA6;\n",
              "      --disabled-fill-color: #AAA;\n",
              "      --disabled-bg-color: #DDD;\n",
              "  }\n",
              "\n",
              "  [theme=dark] .colab-df-quickchart {\n",
              "      --bg-color: #3B4455;\n",
              "      --fill-color: #D2E3FC;\n",
              "      --hover-bg-color: #434B5C;\n",
              "      --hover-fill-color: #FFFFFF;\n",
              "      --disabled-bg-color: #3B4455;\n",
              "      --disabled-fill-color: #666;\n",
              "  }\n",
              "\n",
              "  .colab-df-quickchart {\n",
              "    background-color: var(--bg-color);\n",
              "    border: none;\n",
              "    border-radius: 50%;\n",
              "    cursor: pointer;\n",
              "    display: none;\n",
              "    fill: var(--fill-color);\n",
              "    height: 32px;\n",
              "    padding: 0;\n",
              "    width: 32px;\n",
              "  }\n",
              "\n",
              "  .colab-df-quickchart:hover {\n",
              "    background-color: var(--hover-bg-color);\n",
              "    box-shadow: 0 1px 2px rgba(60, 64, 67, 0.3), 0 1px 3px 1px rgba(60, 64, 67, 0.15);\n",
              "    fill: var(--button-hover-fill-color);\n",
              "  }\n",
              "\n",
              "  .colab-df-quickchart-complete:disabled,\n",
              "  .colab-df-quickchart-complete:disabled:hover {\n",
              "    background-color: var(--disabled-bg-color);\n",
              "    fill: var(--disabled-fill-color);\n",
              "    box-shadow: none;\n",
              "  }\n",
              "\n",
              "  .colab-df-spinner {\n",
              "    border: 2px solid var(--fill-color);\n",
              "    border-color: transparent;\n",
              "    border-bottom-color: var(--fill-color);\n",
              "    animation:\n",
              "      spin 1s steps(1) infinite;\n",
              "  }\n",
              "\n",
              "  @keyframes spin {\n",
              "    0% {\n",
              "      border-color: transparent;\n",
              "      border-bottom-color: var(--fill-color);\n",
              "      border-left-color: var(--fill-color);\n",
              "    }\n",
              "    20% {\n",
              "      border-color: transparent;\n",
              "      border-left-color: var(--fill-color);\n",
              "      border-top-color: var(--fill-color);\n",
              "    }\n",
              "    30% {\n",
              "      border-color: transparent;\n",
              "      border-left-color: var(--fill-color);\n",
              "      border-top-color: var(--fill-color);\n",
              "      border-right-color: var(--fill-color);\n",
              "    }\n",
              "    40% {\n",
              "      border-color: transparent;\n",
              "      border-right-color: var(--fill-color);\n",
              "      border-top-color: var(--fill-color);\n",
              "    }\n",
              "    60% {\n",
              "      border-color: transparent;\n",
              "      border-right-color: var(--fill-color);\n",
              "    }\n",
              "    80% {\n",
              "      border-color: transparent;\n",
              "      border-right-color: var(--fill-color);\n",
              "      border-bottom-color: var(--fill-color);\n",
              "    }\n",
              "    90% {\n",
              "      border-color: transparent;\n",
              "      border-bottom-color: var(--fill-color);\n",
              "    }\n",
              "  }\n",
              "</style>\n",
              "\n",
              "  <script>\n",
              "    async function quickchart(key) {\n",
              "      const quickchartButtonEl =\n",
              "        document.querySelector('#' + key + ' button');\n",
              "      quickchartButtonEl.disabled = true;  // To prevent multiple clicks.\n",
              "      quickchartButtonEl.classList.add('colab-df-spinner');\n",
              "      try {\n",
              "        const charts = await google.colab.kernel.invokeFunction(\n",
              "            'suggestCharts', [key], {});\n",
              "      } catch (error) {\n",
              "        console.error('Error during call to suggestCharts:', error);\n",
              "      }\n",
              "      quickchartButtonEl.classList.remove('colab-df-spinner');\n",
              "      quickchartButtonEl.classList.add('colab-df-quickchart-complete');\n",
              "    }\n",
              "    (() => {\n",
              "      let quickchartButtonEl =\n",
              "        document.querySelector('#df-793ba564-a560-417f-80a4-d5c4cceeea15 button');\n",
              "      quickchartButtonEl.style.display =\n",
              "        google.colab.kernel.accessAllowed ? 'block' : 'none';\n",
              "    })();\n",
              "  </script>\n",
              "</div>\n",
              "\n",
              "    </div>\n",
              "  </div>\n"
            ],
            "application/vnd.google.colaboratory.intrinsic+json": {
              "type": "dataframe",
              "variable_name": "df",
              "summary": "{\n  \"name\": \"df\",\n  \"rows\": 303,\n  \"fields\": [\n    {\n      \"column\": \"age\",\n      \"properties\": {\n        \"dtype\": \"number\",\n        \"std\": 9,\n        \"min\": 29,\n        \"max\": 77,\n        \"num_unique_values\": 41,\n        \"samples\": [\n          46,\n          66,\n          48\n        ],\n        \"semantic_type\": \"\",\n        \"description\": \"\"\n      }\n    },\n    {\n      \"column\": \"sex\",\n      \"properties\": {\n        \"dtype\": \"number\",\n        \"std\": 0,\n        \"min\": 0,\n        \"max\": 1,\n        \"num_unique_values\": 2,\n        \"samples\": [\n          0,\n          1\n        ],\n        \"semantic_type\": \"\",\n        \"description\": \"\"\n      }\n    },\n    {\n      \"column\": \"cp\",\n      \"properties\": {\n        \"dtype\": \"number\",\n        \"std\": 1,\n        \"min\": 0,\n        \"max\": 3,\n        \"num_unique_values\": 4,\n        \"samples\": [\n          2,\n          0\n        ],\n        \"semantic_type\": \"\",\n        \"description\": \"\"\n      }\n    },\n    {\n      \"column\": \"trtbps\",\n      \"properties\": {\n        \"dtype\": \"number\",\n        \"std\": 17,\n        \"min\": 94,\n        \"max\": 200,\n        \"num_unique_values\": 49,\n        \"samples\": [\n          104,\n          123\n        ],\n        \"semantic_type\": \"\",\n        \"description\": \"\"\n      }\n    },\n    {\n      \"column\": \"chol\",\n      \"properties\": {\n        \"dtype\": \"number\",\n        \"std\": 51,\n        \"min\": 126,\n        \"max\": 564,\n        \"num_unique_values\": 152,\n        \"samples\": [\n          277,\n          169\n        ],\n        \"semantic_type\": \"\",\n        \"description\": \"\"\n      }\n    },\n    {\n      \"column\": \"fbs\",\n      \"properties\": {\n        \"dtype\": \"number\",\n        \"std\": 0,\n        \"min\": 0,\n        \"max\": 1,\n        \"num_unique_values\": 2,\n        \"samples\": [\n          0,\n          1\n        ],\n        \"semantic_type\": \"\",\n        \"description\": \"\"\n      }\n    },\n    {\n      \"column\": \"restecg\",\n      \"properties\": {\n        \"dtype\": \"number\",\n        \"std\": 0,\n        \"min\": 0,\n        \"max\": 2,\n        \"num_unique_values\": 3,\n        \"samples\": [\n          0,\n          1\n        ],\n        \"semantic_type\": \"\",\n        \"description\": \"\"\n      }\n    },\n    {\n      \"column\": \"thalachh\",\n      \"properties\": {\n        \"dtype\": \"number\",\n        \"std\": 22,\n        \"min\": 71,\n        \"max\": 202,\n        \"num_unique_values\": 91,\n        \"samples\": [\n          159,\n          152\n        ],\n        \"semantic_type\": \"\",\n        \"description\": \"\"\n      }\n    },\n    {\n      \"column\": \"exng\",\n      \"properties\": {\n        \"dtype\": \"number\",\n        \"std\": 0,\n        \"min\": 0,\n        \"max\": 1,\n        \"num_unique_values\": 2,\n        \"samples\": [\n          1,\n          0\n        ],\n        \"semantic_type\": \"\",\n        \"description\": \"\"\n      }\n    },\n    {\n      \"column\": \"oldpeak\",\n      \"properties\": {\n        \"dtype\": \"number\",\n        \"std\": 1.1610750220686348,\n        \"min\": 0.0,\n        \"max\": 6.2,\n        \"num_unique_values\": 40,\n        \"samples\": [\n          1.9,\n          3.0\n        ],\n        \"semantic_type\": \"\",\n        \"description\": \"\"\n      }\n    },\n    {\n      \"column\": \"slp\",\n      \"properties\": {\n        \"dtype\": \"number\",\n        \"std\": 0,\n        \"min\": 0,\n        \"max\": 2,\n        \"num_unique_values\": 3,\n        \"samples\": [\n          0,\n          2\n        ],\n        \"semantic_type\": \"\",\n        \"description\": \"\"\n      }\n    },\n    {\n      \"column\": \"caa\",\n      \"properties\": {\n        \"dtype\": \"number\",\n        \"std\": 1,\n        \"min\": 0,\n        \"max\": 4,\n        \"num_unique_values\": 5,\n        \"samples\": [\n          2,\n          4\n        ],\n        \"semantic_type\": \"\",\n        \"description\": \"\"\n      }\n    },\n    {\n      \"column\": \"thall\",\n      \"properties\": {\n        \"dtype\": \"number\",\n        \"std\": 0,\n        \"min\": 0,\n        \"max\": 3,\n        \"num_unique_values\": 4,\n        \"samples\": [\n          2,\n          0\n        ],\n        \"semantic_type\": \"\",\n        \"description\": \"\"\n      }\n    },\n    {\n      \"column\": \"output\",\n      \"properties\": {\n        \"dtype\": \"number\",\n        \"std\": 0,\n        \"min\": 0,\n        \"max\": 1,\n        \"num_unique_values\": 2,\n        \"samples\": [\n          0,\n          1\n        ],\n        \"semantic_type\": \"\",\n        \"description\": \"\"\n      }\n    }\n  ]\n}"
            }
          },
          "metadata": {},
          "execution_count": 2
        }
      ]
    },
    {
      "cell_type": "code",
      "source": [
        "# Determine the number of data poins and number of features\n",
        "df.shape"
      ],
      "metadata": {
        "colab": {
          "base_uri": "https://localhost:8080/"
        },
        "id": "q7bYZoPZ3OgK",
        "outputId": "e3dc23df-2e0c-4d34-e49a-287274e8ac70"
      },
      "execution_count": 3,
      "outputs": [
        {
          "output_type": "execute_result",
          "data": {
            "text/plain": [
              "(303, 14)"
            ]
          },
          "metadata": {},
          "execution_count": 3
        }
      ]
    },
    {
      "cell_type": "code",
      "source": [
        "# get the information about the data set\n",
        "df.info()"
      ],
      "metadata": {
        "colab": {
          "base_uri": "https://localhost:8080/"
        },
        "id": "cS4b2Cgt3rnx",
        "outputId": "413649df-3016-4812-a2c7-51ffbaa33d03"
      },
      "execution_count": 4,
      "outputs": [
        {
          "output_type": "stream",
          "name": "stdout",
          "text": [
            "<class 'pandas.core.frame.DataFrame'>\n",
            "RangeIndex: 303 entries, 0 to 302\n",
            "Data columns (total 14 columns):\n",
            " #   Column    Non-Null Count  Dtype  \n",
            "---  ------    --------------  -----  \n",
            " 0   age       303 non-null    int64  \n",
            " 1   sex       303 non-null    int64  \n",
            " 2   cp        303 non-null    int64  \n",
            " 3   trtbps    303 non-null    int64  \n",
            " 4   chol      303 non-null    int64  \n",
            " 5   fbs       303 non-null    int64  \n",
            " 6   restecg   303 non-null    int64  \n",
            " 7   thalachh  303 non-null    int64  \n",
            " 8   exng      303 non-null    int64  \n",
            " 9   oldpeak   303 non-null    float64\n",
            " 10  slp       303 non-null    int64  \n",
            " 11  caa       303 non-null    int64  \n",
            " 12  thall     303 non-null    int64  \n",
            " 13  output    303 non-null    int64  \n",
            "dtypes: float64(1), int64(13)\n",
            "memory usage: 33.3 KB\n"
          ]
        }
      ]
    },
    {
      "cell_type": "code",
      "source": [
        "# checking for the missing values\n",
        "df.isnull().sum()"
      ],
      "metadata": {
        "colab": {
          "base_uri": "https://localhost:8080/"
        },
        "id": "mjJyjDMO313f",
        "outputId": "92187da6-4b08-4973-9532-f9437ba84e36"
      },
      "execution_count": 5,
      "outputs": [
        {
          "output_type": "execute_result",
          "data": {
            "text/plain": [
              "age         0\n",
              "sex         0\n",
              "cp          0\n",
              "trtbps      0\n",
              "chol        0\n",
              "fbs         0\n",
              "restecg     0\n",
              "thalachh    0\n",
              "exng        0\n",
              "oldpeak     0\n",
              "slp         0\n",
              "caa         0\n",
              "thall       0\n",
              "output      0\n",
              "dtype: int64"
            ]
          },
          "metadata": {},
          "execution_count": 5
        }
      ]
    },
    {
      "cell_type": "code",
      "source": [
        "# list categorical and numerical features\n",
        "categorical_features = df.select_dtypes(include=['object']).columns.to_list()\n",
        "numerical_features = df.select_dtypes(exclude=['object']).columns.to_list()\n",
        "\n",
        "print(\"Categorical Features:\",categorical_features)\n",
        "print(\"Numerical Features:\",numerical_features)"
      ],
      "metadata": {
        "colab": {
          "base_uri": "https://localhost:8080/"
        },
        "id": "vXZecxUi3-2X",
        "outputId": "4929ddd5-c1c3-4fc6-fca8-7b8075cca377"
      },
      "execution_count": 6,
      "outputs": [
        {
          "output_type": "stream",
          "name": "stdout",
          "text": [
            "Categorical Features: []\n",
            "Numerical Features: ['age', 'sex', 'cp', 'trtbps', 'chol', 'fbs', 'restecg', 'thalachh', 'exng', 'oldpeak', 'slp', 'caa', 'thall', 'output']\n"
          ]
        }
      ]
    },
    {
      "cell_type": "code",
      "source": [
        "# Descriptive statistics of the data set\n",
        "df.describe()"
      ],
      "metadata": {
        "colab": {
          "base_uri": "https://localhost:8080/",
          "height": 301
        },
        "id": "9BFrMRm64Vg3",
        "outputId": "80b6722e-977b-4f53-f219-3eb347c0f899"
      },
      "execution_count": 7,
      "outputs": [
        {
          "output_type": "execute_result",
          "data": {
            "text/plain": [
              "              age         sex          cp      trtbps        chol         fbs  \\\n",
              "count  303.000000  303.000000  303.000000  303.000000  303.000000  303.000000   \n",
              "mean    54.366337    0.683168    0.966997  131.623762  246.264026    0.148515   \n",
              "std      9.082101    0.466011    1.032052   17.538143   51.830751    0.356198   \n",
              "min     29.000000    0.000000    0.000000   94.000000  126.000000    0.000000   \n",
              "25%     47.500000    0.000000    0.000000  120.000000  211.000000    0.000000   \n",
              "50%     55.000000    1.000000    1.000000  130.000000  240.000000    0.000000   \n",
              "75%     61.000000    1.000000    2.000000  140.000000  274.500000    0.000000   \n",
              "max     77.000000    1.000000    3.000000  200.000000  564.000000    1.000000   \n",
              "\n",
              "          restecg    thalachh        exng     oldpeak         slp         caa  \\\n",
              "count  303.000000  303.000000  303.000000  303.000000  303.000000  303.000000   \n",
              "mean     0.528053  149.646865    0.326733    1.039604    1.399340    0.729373   \n",
              "std      0.525860   22.905161    0.469794    1.161075    0.616226    1.022606   \n",
              "min      0.000000   71.000000    0.000000    0.000000    0.000000    0.000000   \n",
              "25%      0.000000  133.500000    0.000000    0.000000    1.000000    0.000000   \n",
              "50%      1.000000  153.000000    0.000000    0.800000    1.000000    0.000000   \n",
              "75%      1.000000  166.000000    1.000000    1.600000    2.000000    1.000000   \n",
              "max      2.000000  202.000000    1.000000    6.200000    2.000000    4.000000   \n",
              "\n",
              "            thall      output  \n",
              "count  303.000000  303.000000  \n",
              "mean     2.313531    0.544554  \n",
              "std      0.612277    0.498835  \n",
              "min      0.000000    0.000000  \n",
              "25%      2.000000    0.000000  \n",
              "50%      2.000000    1.000000  \n",
              "75%      3.000000    1.000000  \n",
              "max      3.000000    1.000000  "
            ],
            "text/html": [
              "\n",
              "  <div id=\"df-b65e65f1-684b-4c28-b5cf-cc1c24668138\" class=\"colab-df-container\">\n",
              "    <div>\n",
              "<style scoped>\n",
              "    .dataframe tbody tr th:only-of-type {\n",
              "        vertical-align: middle;\n",
              "    }\n",
              "\n",
              "    .dataframe tbody tr th {\n",
              "        vertical-align: top;\n",
              "    }\n",
              "\n",
              "    .dataframe thead th {\n",
              "        text-align: right;\n",
              "    }\n",
              "</style>\n",
              "<table border=\"1\" class=\"dataframe\">\n",
              "  <thead>\n",
              "    <tr style=\"text-align: right;\">\n",
              "      <th></th>\n",
              "      <th>age</th>\n",
              "      <th>sex</th>\n",
              "      <th>cp</th>\n",
              "      <th>trtbps</th>\n",
              "      <th>chol</th>\n",
              "      <th>fbs</th>\n",
              "      <th>restecg</th>\n",
              "      <th>thalachh</th>\n",
              "      <th>exng</th>\n",
              "      <th>oldpeak</th>\n",
              "      <th>slp</th>\n",
              "      <th>caa</th>\n",
              "      <th>thall</th>\n",
              "      <th>output</th>\n",
              "    </tr>\n",
              "  </thead>\n",
              "  <tbody>\n",
              "    <tr>\n",
              "      <th>count</th>\n",
              "      <td>303.000000</td>\n",
              "      <td>303.000000</td>\n",
              "      <td>303.000000</td>\n",
              "      <td>303.000000</td>\n",
              "      <td>303.000000</td>\n",
              "      <td>303.000000</td>\n",
              "      <td>303.000000</td>\n",
              "      <td>303.000000</td>\n",
              "      <td>303.000000</td>\n",
              "      <td>303.000000</td>\n",
              "      <td>303.000000</td>\n",
              "      <td>303.000000</td>\n",
              "      <td>303.000000</td>\n",
              "      <td>303.000000</td>\n",
              "    </tr>\n",
              "    <tr>\n",
              "      <th>mean</th>\n",
              "      <td>54.366337</td>\n",
              "      <td>0.683168</td>\n",
              "      <td>0.966997</td>\n",
              "      <td>131.623762</td>\n",
              "      <td>246.264026</td>\n",
              "      <td>0.148515</td>\n",
              "      <td>0.528053</td>\n",
              "      <td>149.646865</td>\n",
              "      <td>0.326733</td>\n",
              "      <td>1.039604</td>\n",
              "      <td>1.399340</td>\n",
              "      <td>0.729373</td>\n",
              "      <td>2.313531</td>\n",
              "      <td>0.544554</td>\n",
              "    </tr>\n",
              "    <tr>\n",
              "      <th>std</th>\n",
              "      <td>9.082101</td>\n",
              "      <td>0.466011</td>\n",
              "      <td>1.032052</td>\n",
              "      <td>17.538143</td>\n",
              "      <td>51.830751</td>\n",
              "      <td>0.356198</td>\n",
              "      <td>0.525860</td>\n",
              "      <td>22.905161</td>\n",
              "      <td>0.469794</td>\n",
              "      <td>1.161075</td>\n",
              "      <td>0.616226</td>\n",
              "      <td>1.022606</td>\n",
              "      <td>0.612277</td>\n",
              "      <td>0.498835</td>\n",
              "    </tr>\n",
              "    <tr>\n",
              "      <th>min</th>\n",
              "      <td>29.000000</td>\n",
              "      <td>0.000000</td>\n",
              "      <td>0.000000</td>\n",
              "      <td>94.000000</td>\n",
              "      <td>126.000000</td>\n",
              "      <td>0.000000</td>\n",
              "      <td>0.000000</td>\n",
              "      <td>71.000000</td>\n",
              "      <td>0.000000</td>\n",
              "      <td>0.000000</td>\n",
              "      <td>0.000000</td>\n",
              "      <td>0.000000</td>\n",
              "      <td>0.000000</td>\n",
              "      <td>0.000000</td>\n",
              "    </tr>\n",
              "    <tr>\n",
              "      <th>25%</th>\n",
              "      <td>47.500000</td>\n",
              "      <td>0.000000</td>\n",
              "      <td>0.000000</td>\n",
              "      <td>120.000000</td>\n",
              "      <td>211.000000</td>\n",
              "      <td>0.000000</td>\n",
              "      <td>0.000000</td>\n",
              "      <td>133.500000</td>\n",
              "      <td>0.000000</td>\n",
              "      <td>0.000000</td>\n",
              "      <td>1.000000</td>\n",
              "      <td>0.000000</td>\n",
              "      <td>2.000000</td>\n",
              "      <td>0.000000</td>\n",
              "    </tr>\n",
              "    <tr>\n",
              "      <th>50%</th>\n",
              "      <td>55.000000</td>\n",
              "      <td>1.000000</td>\n",
              "      <td>1.000000</td>\n",
              "      <td>130.000000</td>\n",
              "      <td>240.000000</td>\n",
              "      <td>0.000000</td>\n",
              "      <td>1.000000</td>\n",
              "      <td>153.000000</td>\n",
              "      <td>0.000000</td>\n",
              "      <td>0.800000</td>\n",
              "      <td>1.000000</td>\n",
              "      <td>0.000000</td>\n",
              "      <td>2.000000</td>\n",
              "      <td>1.000000</td>\n",
              "    </tr>\n",
              "    <tr>\n",
              "      <th>75%</th>\n",
              "      <td>61.000000</td>\n",
              "      <td>1.000000</td>\n",
              "      <td>2.000000</td>\n",
              "      <td>140.000000</td>\n",
              "      <td>274.500000</td>\n",
              "      <td>0.000000</td>\n",
              "      <td>1.000000</td>\n",
              "      <td>166.000000</td>\n",
              "      <td>1.000000</td>\n",
              "      <td>1.600000</td>\n",
              "      <td>2.000000</td>\n",
              "      <td>1.000000</td>\n",
              "      <td>3.000000</td>\n",
              "      <td>1.000000</td>\n",
              "    </tr>\n",
              "    <tr>\n",
              "      <th>max</th>\n",
              "      <td>77.000000</td>\n",
              "      <td>1.000000</td>\n",
              "      <td>3.000000</td>\n",
              "      <td>200.000000</td>\n",
              "      <td>564.000000</td>\n",
              "      <td>1.000000</td>\n",
              "      <td>2.000000</td>\n",
              "      <td>202.000000</td>\n",
              "      <td>1.000000</td>\n",
              "      <td>6.200000</td>\n",
              "      <td>2.000000</td>\n",
              "      <td>4.000000</td>\n",
              "      <td>3.000000</td>\n",
              "      <td>1.000000</td>\n",
              "    </tr>\n",
              "  </tbody>\n",
              "</table>\n",
              "</div>\n",
              "    <div class=\"colab-df-buttons\">\n",
              "\n",
              "  <div class=\"colab-df-container\">\n",
              "    <button class=\"colab-df-convert\" onclick=\"convertToInteractive('df-b65e65f1-684b-4c28-b5cf-cc1c24668138')\"\n",
              "            title=\"Convert this dataframe to an interactive table.\"\n",
              "            style=\"display:none;\">\n",
              "\n",
              "  <svg xmlns=\"http://www.w3.org/2000/svg\" height=\"24px\" viewBox=\"0 -960 960 960\">\n",
              "    <path d=\"M120-120v-720h720v720H120Zm60-500h600v-160H180v160Zm220 220h160v-160H400v160Zm0 220h160v-160H400v160ZM180-400h160v-160H180v160Zm440 0h160v-160H620v160ZM180-180h160v-160H180v160Zm440 0h160v-160H620v160Z\"/>\n",
              "  </svg>\n",
              "    </button>\n",
              "\n",
              "  <style>\n",
              "    .colab-df-container {\n",
              "      display:flex;\n",
              "      gap: 12px;\n",
              "    }\n",
              "\n",
              "    .colab-df-convert {\n",
              "      background-color: #E8F0FE;\n",
              "      border: none;\n",
              "      border-radius: 50%;\n",
              "      cursor: pointer;\n",
              "      display: none;\n",
              "      fill: #1967D2;\n",
              "      height: 32px;\n",
              "      padding: 0 0 0 0;\n",
              "      width: 32px;\n",
              "    }\n",
              "\n",
              "    .colab-df-convert:hover {\n",
              "      background-color: #E2EBFA;\n",
              "      box-shadow: 0px 1px 2px rgba(60, 64, 67, 0.3), 0px 1px 3px 1px rgba(60, 64, 67, 0.15);\n",
              "      fill: #174EA6;\n",
              "    }\n",
              "\n",
              "    .colab-df-buttons div {\n",
              "      margin-bottom: 4px;\n",
              "    }\n",
              "\n",
              "    [theme=dark] .colab-df-convert {\n",
              "      background-color: #3B4455;\n",
              "      fill: #D2E3FC;\n",
              "    }\n",
              "\n",
              "    [theme=dark] .colab-df-convert:hover {\n",
              "      background-color: #434B5C;\n",
              "      box-shadow: 0px 1px 3px 1px rgba(0, 0, 0, 0.15);\n",
              "      filter: drop-shadow(0px 1px 2px rgba(0, 0, 0, 0.3));\n",
              "      fill: #FFFFFF;\n",
              "    }\n",
              "  </style>\n",
              "\n",
              "    <script>\n",
              "      const buttonEl =\n",
              "        document.querySelector('#df-b65e65f1-684b-4c28-b5cf-cc1c24668138 button.colab-df-convert');\n",
              "      buttonEl.style.display =\n",
              "        google.colab.kernel.accessAllowed ? 'block' : 'none';\n",
              "\n",
              "      async function convertToInteractive(key) {\n",
              "        const element = document.querySelector('#df-b65e65f1-684b-4c28-b5cf-cc1c24668138');\n",
              "        const dataTable =\n",
              "          await google.colab.kernel.invokeFunction('convertToInteractive',\n",
              "                                                    [key], {});\n",
              "        if (!dataTable) return;\n",
              "\n",
              "        const docLinkHtml = 'Like what you see? Visit the ' +\n",
              "          '<a target=\"_blank\" href=https://colab.research.google.com/notebooks/data_table.ipynb>data table notebook</a>'\n",
              "          + ' to learn more about interactive tables.';\n",
              "        element.innerHTML = '';\n",
              "        dataTable['output_type'] = 'display_data';\n",
              "        await google.colab.output.renderOutput(dataTable, element);\n",
              "        const docLink = document.createElement('div');\n",
              "        docLink.innerHTML = docLinkHtml;\n",
              "        element.appendChild(docLink);\n",
              "      }\n",
              "    </script>\n",
              "  </div>\n",
              "\n",
              "\n",
              "<div id=\"df-983575da-693d-4ea4-b4d9-fdacd69d9c00\">\n",
              "  <button class=\"colab-df-quickchart\" onclick=\"quickchart('df-983575da-693d-4ea4-b4d9-fdacd69d9c00')\"\n",
              "            title=\"Suggest charts\"\n",
              "            style=\"display:none;\">\n",
              "\n",
              "<svg xmlns=\"http://www.w3.org/2000/svg\" height=\"24px\"viewBox=\"0 0 24 24\"\n",
              "     width=\"24px\">\n",
              "    <g>\n",
              "        <path d=\"M19 3H5c-1.1 0-2 .9-2 2v14c0 1.1.9 2 2 2h14c1.1 0 2-.9 2-2V5c0-1.1-.9-2-2-2zM9 17H7v-7h2v7zm4 0h-2V7h2v10zm4 0h-2v-4h2v4z\"/>\n",
              "    </g>\n",
              "</svg>\n",
              "  </button>\n",
              "\n",
              "<style>\n",
              "  .colab-df-quickchart {\n",
              "      --bg-color: #E8F0FE;\n",
              "      --fill-color: #1967D2;\n",
              "      --hover-bg-color: #E2EBFA;\n",
              "      --hover-fill-color: #174EA6;\n",
              "      --disabled-fill-color: #AAA;\n",
              "      --disabled-bg-color: #DDD;\n",
              "  }\n",
              "\n",
              "  [theme=dark] .colab-df-quickchart {\n",
              "      --bg-color: #3B4455;\n",
              "      --fill-color: #D2E3FC;\n",
              "      --hover-bg-color: #434B5C;\n",
              "      --hover-fill-color: #FFFFFF;\n",
              "      --disabled-bg-color: #3B4455;\n",
              "      --disabled-fill-color: #666;\n",
              "  }\n",
              "\n",
              "  .colab-df-quickchart {\n",
              "    background-color: var(--bg-color);\n",
              "    border: none;\n",
              "    border-radius: 50%;\n",
              "    cursor: pointer;\n",
              "    display: none;\n",
              "    fill: var(--fill-color);\n",
              "    height: 32px;\n",
              "    padding: 0;\n",
              "    width: 32px;\n",
              "  }\n",
              "\n",
              "  .colab-df-quickchart:hover {\n",
              "    background-color: var(--hover-bg-color);\n",
              "    box-shadow: 0 1px 2px rgba(60, 64, 67, 0.3), 0 1px 3px 1px rgba(60, 64, 67, 0.15);\n",
              "    fill: var(--button-hover-fill-color);\n",
              "  }\n",
              "\n",
              "  .colab-df-quickchart-complete:disabled,\n",
              "  .colab-df-quickchart-complete:disabled:hover {\n",
              "    background-color: var(--disabled-bg-color);\n",
              "    fill: var(--disabled-fill-color);\n",
              "    box-shadow: none;\n",
              "  }\n",
              "\n",
              "  .colab-df-spinner {\n",
              "    border: 2px solid var(--fill-color);\n",
              "    border-color: transparent;\n",
              "    border-bottom-color: var(--fill-color);\n",
              "    animation:\n",
              "      spin 1s steps(1) infinite;\n",
              "  }\n",
              "\n",
              "  @keyframes spin {\n",
              "    0% {\n",
              "      border-color: transparent;\n",
              "      border-bottom-color: var(--fill-color);\n",
              "      border-left-color: var(--fill-color);\n",
              "    }\n",
              "    20% {\n",
              "      border-color: transparent;\n",
              "      border-left-color: var(--fill-color);\n",
              "      border-top-color: var(--fill-color);\n",
              "    }\n",
              "    30% {\n",
              "      border-color: transparent;\n",
              "      border-left-color: var(--fill-color);\n",
              "      border-top-color: var(--fill-color);\n",
              "      border-right-color: var(--fill-color);\n",
              "    }\n",
              "    40% {\n",
              "      border-color: transparent;\n",
              "      border-right-color: var(--fill-color);\n",
              "      border-top-color: var(--fill-color);\n",
              "    }\n",
              "    60% {\n",
              "      border-color: transparent;\n",
              "      border-right-color: var(--fill-color);\n",
              "    }\n",
              "    80% {\n",
              "      border-color: transparent;\n",
              "      border-right-color: var(--fill-color);\n",
              "      border-bottom-color: var(--fill-color);\n",
              "    }\n",
              "    90% {\n",
              "      border-color: transparent;\n",
              "      border-bottom-color: var(--fill-color);\n",
              "    }\n",
              "  }\n",
              "</style>\n",
              "\n",
              "  <script>\n",
              "    async function quickchart(key) {\n",
              "      const quickchartButtonEl =\n",
              "        document.querySelector('#' + key + ' button');\n",
              "      quickchartButtonEl.disabled = true;  // To prevent multiple clicks.\n",
              "      quickchartButtonEl.classList.add('colab-df-spinner');\n",
              "      try {\n",
              "        const charts = await google.colab.kernel.invokeFunction(\n",
              "            'suggestCharts', [key], {});\n",
              "      } catch (error) {\n",
              "        console.error('Error during call to suggestCharts:', error);\n",
              "      }\n",
              "      quickchartButtonEl.classList.remove('colab-df-spinner');\n",
              "      quickchartButtonEl.classList.add('colab-df-quickchart-complete');\n",
              "    }\n",
              "    (() => {\n",
              "      let quickchartButtonEl =\n",
              "        document.querySelector('#df-983575da-693d-4ea4-b4d9-fdacd69d9c00 button');\n",
              "      quickchartButtonEl.style.display =\n",
              "        google.colab.kernel.accessAllowed ? 'block' : 'none';\n",
              "    })();\n",
              "  </script>\n",
              "</div>\n",
              "\n",
              "    </div>\n",
              "  </div>\n"
            ],
            "application/vnd.google.colaboratory.intrinsic+json": {
              "type": "dataframe",
              "summary": "{\n  \"name\": \"df\",\n  \"rows\": 8,\n  \"fields\": [\n    {\n      \"column\": \"age\",\n      \"properties\": {\n        \"dtype\": \"number\",\n        \"std\": 92.63263171018461,\n        \"min\": 9.082100989837857,\n        \"max\": 303.0,\n        \"num_unique_values\": 8,\n        \"samples\": [\n          54.366336633663366,\n          55.0,\n          303.0\n        ],\n        \"semantic_type\": \"\",\n        \"description\": \"\"\n      }\n    },\n    {\n      \"column\": \"sex\",\n      \"properties\": {\n        \"dtype\": \"number\",\n        \"std\": 106.91793021099774,\n        \"min\": 0.0,\n        \"max\": 303.0,\n        \"num_unique_values\": 5,\n        \"samples\": [\n          0.6831683168316832,\n          1.0,\n          0.46601082333962385\n        ],\n        \"semantic_type\": \"\",\n        \"description\": \"\"\n      }\n    },\n    {\n      \"column\": \"cp\",\n      \"properties\": {\n        \"dtype\": \"number\",\n        \"std\": 106.72725528212327,\n        \"min\": 0.0,\n        \"max\": 303.0,\n        \"num_unique_values\": 7,\n        \"samples\": [\n          303.0,\n          0.966996699669967,\n          2.0\n        ],\n        \"semantic_type\": \"\",\n        \"description\": \"\"\n      }\n    },\n    {\n      \"column\": \"trtbps\",\n      \"properties\": {\n        \"dtype\": \"number\",\n        \"std\": 82.65195263865039,\n        \"min\": 17.5381428135171,\n        \"max\": 303.0,\n        \"num_unique_values\": 8,\n        \"samples\": [\n          131.62376237623764,\n          130.0,\n          303.0\n        ],\n        \"semantic_type\": \"\",\n        \"description\": \"\"\n      }\n    },\n    {\n      \"column\": \"chol\",\n      \"properties\": {\n        \"dtype\": \"number\",\n        \"std\": 150.35806568851743,\n        \"min\": 51.83075098793003,\n        \"max\": 564.0,\n        \"num_unique_values\": 8,\n        \"samples\": [\n          246.26402640264027,\n          240.0,\n          303.0\n        ],\n        \"semantic_type\": \"\",\n        \"description\": \"\"\n      }\n    },\n    {\n      \"column\": \"fbs\",\n      \"properties\": {\n        \"dtype\": \"number\",\n        \"std\": 107.0512286741478,\n        \"min\": 0.0,\n        \"max\": 303.0,\n        \"num_unique_values\": 5,\n        \"samples\": [\n          0.1485148514851485,\n          1.0,\n          0.35619787492797644\n        ],\n        \"semantic_type\": \"\",\n        \"description\": \"\"\n      }\n    },\n    {\n      \"column\": \"restecg\",\n      \"properties\": {\n        \"dtype\": \"number\",\n        \"std\": 106.8733588009897,\n        \"min\": 0.0,\n        \"max\": 303.0,\n        \"num_unique_values\": 6,\n        \"samples\": [\n          303.0,\n          0.528052805280528,\n          2.0\n        ],\n        \"semantic_type\": \"\",\n        \"description\": \"\"\n      }\n    },\n    {\n      \"column\": \"thalachh\",\n      \"properties\": {\n        \"dtype\": \"number\",\n        \"std\": 83.70384393886218,\n        \"min\": 22.905161114914094,\n        \"max\": 303.0,\n        \"num_unique_values\": 8,\n        \"samples\": [\n          149.64686468646866,\n          153.0,\n          303.0\n        ],\n        \"semantic_type\": \"\",\n        \"description\": \"\"\n      }\n    },\n    {\n      \"column\": \"exng\",\n      \"properties\": {\n        \"dtype\": \"number\",\n        \"std\": 106.9862394088184,\n        \"min\": 0.0,\n        \"max\": 303.0,\n        \"num_unique_values\": 5,\n        \"samples\": [\n          0.32673267326732675,\n          1.0,\n          0.4697944645223165\n        ],\n        \"semantic_type\": \"\",\n        \"description\": \"\"\n      }\n    },\n    {\n      \"column\": \"oldpeak\",\n      \"properties\": {\n        \"dtype\": \"number\",\n        \"std\": 106.59952466080658,\n        \"min\": 0.0,\n        \"max\": 303.0,\n        \"num_unique_values\": 7,\n        \"samples\": [\n          303.0,\n          1.0396039603960396,\n          1.6\n        ],\n        \"semantic_type\": \"\",\n        \"description\": \"\"\n      }\n    },\n    {\n      \"column\": \"slp\",\n      \"properties\": {\n        \"dtype\": \"number\",\n        \"std\": 106.72394469173834,\n        \"min\": 0.0,\n        \"max\": 303.0,\n        \"num_unique_values\": 6,\n        \"samples\": [\n          303.0,\n          1.3993399339933994,\n          2.0\n        ],\n        \"semantic_type\": \"\",\n        \"description\": \"\"\n      }\n    },\n    {\n      \"column\": \"caa\",\n      \"properties\": {\n        \"dtype\": \"number\",\n        \"std\": 106.79372080487734,\n        \"min\": 0.0,\n        \"max\": 303.0,\n        \"num_unique_values\": 6,\n        \"samples\": [\n          303.0,\n          0.7293729372937293,\n          4.0\n        ],\n        \"semantic_type\": \"\",\n        \"description\": \"\"\n      }\n    },\n    {\n      \"column\": \"thall\",\n      \"properties\": {\n        \"dtype\": \"number\",\n        \"std\": 106.47909774814387,\n        \"min\": 0.0,\n        \"max\": 303.0,\n        \"num_unique_values\": 6,\n        \"samples\": [\n          303.0,\n          2.3135313531353137,\n          3.0\n        ],\n        \"semantic_type\": \"\",\n        \"description\": \"\"\n      }\n    },\n    {\n      \"column\": \"output\",\n      \"properties\": {\n        \"dtype\": \"number\",\n        \"std\": 106.92326354929804,\n        \"min\": 0.0,\n        \"max\": 303.0,\n        \"num_unique_values\": 5,\n        \"samples\": [\n          0.5445544554455446,\n          1.0,\n          0.4988347841643913\n        ],\n        \"semantic_type\": \"\",\n        \"description\": \"\"\n      }\n    }\n  ]\n}"
            }
          },
          "metadata": {},
          "execution_count": 7
        }
      ]
    },
    {
      "cell_type": "code",
      "source": [
        "df['output'].value_counts(normalize=True)*100"
      ],
      "metadata": {
        "colab": {
          "base_uri": "https://localhost:8080/"
        },
        "id": "X0xSfcm7kfUG",
        "outputId": "23f4f8f1-caf1-4494-a55a-52d024583292"
      },
      "execution_count": 8,
      "outputs": [
        {
          "output_type": "execute_result",
          "data": {
            "text/plain": [
              "output\n",
              "1    54.455446\n",
              "0    45.544554\n",
              "Name: proportion, dtype: float64"
            ]
          },
          "metadata": {},
          "execution_count": 8
        }
      ]
    },
    {
      "cell_type": "markdown",
      "source": [
        "The classes in this dataset are balanced.\n",
        "\n",
        "There are 54.45% of the patients have a higher risk of heart disease, while 45.54% of the patients have a lower risk of heart disease."
      ],
      "metadata": {
        "id": "sUEORvUYksdn"
      }
    },
    {
      "cell_type": "markdown",
      "source": [
        "## **Exploratory Data Analysis (EDA)**"
      ],
      "metadata": {
        "id": "__ty8I4G5pwY"
      }
    },
    {
      "cell_type": "code",
      "source": [
        "sns.set()"
      ],
      "metadata": {
        "id": "jYr0F5ai5qVy"
      },
      "execution_count": 9,
      "outputs": []
    },
    {
      "cell_type": "code",
      "source": [
        "plt.figure(figsize=(4,4))\n",
        "sns.countplot(x=df.output)\n",
        "plt.title('Count of Heart attack risk')\n",
        "plt.show()"
      ],
      "metadata": {
        "colab": {
          "base_uri": "https://localhost:8080/",
          "height": 419
        },
        "id": "9cogIdlUlWhf",
        "outputId": "ddab1f61-8b5d-4897-86c8-844abb36609e"
      },
      "execution_count": 10,
      "outputs": [
        {
          "output_type": "display_data",
          "data": {
            "text/plain": [
              "<Figure size 400x400 with 1 Axes>"
            ],
            "image/png": "[encoded data removed]"
          },
          "metadata": {}
        }
      ]
    },
    {
      "cell_type": "code",
      "source": [
        "plt.subplot(1,2,1)\n",
        "sns.boxplot(y=df['age'])\n",
        "plt.title('Spreadness of age')\n",
        "\n",
        "\n",
        "plt.subplot(1,2,2)\n",
        "sns.histplot(x=df['age'], kde=True)\n",
        "plt.title('Distribution of age')"
      ],
      "metadata": {
        "colab": {
          "base_uri": "https://localhost:8080/",
          "height": 497
        },
        "id": "f9Hrcetmm9O6",
        "outputId": "ed983807-8bea-4462-f0fe-564587bb3566"
      },
      "execution_count": 11,
      "outputs": [
        {
          "output_type": "execute_result",
          "data": {
            "text/plain": [
              "Text(0.5, 1.0, 'Distribution of age')"
            ]
          },
          "metadata": {},
          "execution_count": 11
        },
        {
          "output_type": "display_data",
          "data": {
            "text/plain": [
              "<Figure size 640x480 with 2 Axes>"
            ],
            "image/png": "[encoded data removed]"
          },
          "metadata": {}
        }
      ]
    },
    {
      "cell_type": "markdown",
      "source": [
        "\n",
        "\n",
        "*   Patients in this data set mostly in between 48 and 61 years of age.\n",
        "\n",
        "\n",
        "*   The age distribution in this data set resembles a normal distribution.\n",
        "\n"
      ],
      "metadata": {
        "id": "7l9Kxe3gof4f"
      }
    },
    {
      "cell_type": "markdown",
      "source": [
        "Spreadness age by sex and Risk(Output)"
      ],
      "metadata": {
        "id": "eZ6ohqtap_p7"
      }
    },
    {
      "cell_type": "code",
      "source": [
        "sns.boxplot(x='sex', y='age', data=df, hue='output')\n",
        "plt.title('Spreadness age by sex and Risk')\n",
        "plt.show()"
      ],
      "metadata": {
        "colab": {
          "base_uri": "https://localhost:8080/",
          "height": 480
        },
        "id": "gGG7n5RmqLjC",
        "outputId": "9b337ff9-6dd4-44c1-b2d4-2c7a35a73c9d"
      },
      "execution_count": 12,
      "outputs": [
        {
          "output_type": "display_data",
          "data": {
            "text/plain": [
              "<Figure size 640x480 with 1 Axes>"
            ],
            "image/png": "[encoded data removed]"
          },
          "metadata": {}
        }
      ]
    },
    {
      "cell_type": "markdown",
      "source": [
        "\n",
        "\n",
        "*   The age of female patients have high risk of heart disease is more spread out than that of female patients have low risk.\n",
        "\n",
        "* Male patients have higher risk of heart disease were slightly older than male patients have lower risk.\n",
        "\n"
      ],
      "metadata": {
        "id": "lRIPk4pvqp65"
      }
    },
    {
      "cell_type": "code",
      "source": [
        "df.groupby(['sex', 'output']).agg({'output':'count'})"
      ],
      "metadata": {
        "colab": {
          "base_uri": "https://localhost:8080/",
          "height": 206
        },
        "id": "UAVN-F54reLg",
        "outputId": "7008699b-0e8b-4285-9192-0563a0242c9a"
      },
      "execution_count": 13,
      "outputs": [
        {
          "output_type": "execute_result",
          "data": {
            "text/plain": [
              "            output\n",
              "sex output        \n",
              "0   0           24\n",
              "    1           72\n",
              "1   0          114\n",
              "    1           93"
            ],
            "text/html": [
              "\n",
              "  <div id=\"df-ca6d271d-708d-4607-bbfd-3e5de733ee68\" class=\"colab-df-container\">\n",
              "    <div>\n",
              "<style scoped>\n",
              "    .dataframe tbody tr th:only-of-type {\n",
              "        vertical-align: middle;\n",
              "    }\n",
              "\n",
              "    .dataframe tbody tr th {\n",
              "        vertical-align: top;\n",
              "    }\n",
              "\n",
              "    .dataframe thead th {\n",
              "        text-align: right;\n",
              "    }\n",
              "</style>\n",
              "<table border=\"1\" class=\"dataframe\">\n",
              "  <thead>\n",
              "    <tr style=\"text-align: right;\">\n",
              "      <th></th>\n",
              "      <th></th>\n",
              "      <th>output</th>\n",
              "    </tr>\n",
              "    <tr>\n",
              "      <th>sex</th>\n",
              "      <th>output</th>\n",
              "      <th></th>\n",
              "    </tr>\n",
              "  </thead>\n",
              "  <tbody>\n",
              "    <tr>\n",
              "      <th rowspan=\"2\" valign=\"top\">0</th>\n",
              "      <th>0</th>\n",
              "      <td>24</td>\n",
              "    </tr>\n",
              "    <tr>\n",
              "      <th>1</th>\n",
              "      <td>72</td>\n",
              "    </tr>\n",
              "    <tr>\n",
              "      <th rowspan=\"2\" valign=\"top\">1</th>\n",
              "      <th>0</th>\n",
              "      <td>114</td>\n",
              "    </tr>\n",
              "    <tr>\n",
              "      <th>1</th>\n",
              "      <td>93</td>\n",
              "    </tr>\n",
              "  </tbody>\n",
              "</table>\n",
              "</div>\n",
              "    <div class=\"colab-df-buttons\">\n",
              "\n",
              "  <div class=\"colab-df-container\">\n",
              "    <button class=\"colab-df-convert\" onclick=\"convertToInteractive('df-ca6d271d-708d-4607-bbfd-3e5de733ee68')\"\n",
              "            title=\"Convert this dataframe to an interactive table.\"\n",
              "            style=\"display:none;\">\n",
              "\n",
              "  <svg xmlns=\"http://www.w3.org/2000/svg\" height=\"24px\" viewBox=\"0 -960 960 960\">\n",
              "    <path d=\"M120-120v-720h720v720H120Zm60-500h600v-160H180v160Zm220 220h160v-160H400v160Zm0 220h160v-160H400v160ZM180-400h160v-160H180v160Zm440 0h160v-160H620v160ZM180-180h160v-160H180v160Zm440 0h160v-160H620v160Z\"/>\n",
              "  </svg>\n",
              "    </button>\n",
              "\n",
              "  <style>\n",
              "    .colab-df-container {\n",
              "      display:flex;\n",
              "      gap: 12px;\n",
              "    }\n",
              "\n",
              "    .colab-df-convert {\n",
              "      background-color: #E8F0FE;\n",
              "      border: none;\n",
              "      border-radius: 50%;\n",
              "      cursor: pointer;\n",
              "      display: none;\n",
              "      fill: #1967D2;\n",
              "      height: 32px;\n",
              "      padding: 0 0 0 0;\n",
              "      width: 32px;\n",
              "    }\n",
              "\n",
              "    .colab-df-convert:hover {\n",
              "      background-color: #E2EBFA;\n",
              "      box-shadow: 0px 1px 2px rgba(60, 64, 67, 0.3), 0px 1px 3px 1px rgba(60, 64, 67, 0.15);\n",
              "      fill: #174EA6;\n",
              "    }\n",
              "\n",
              "    .colab-df-buttons div {\n",
              "      margin-bottom: 4px;\n",
              "    }\n",
              "\n",
              "    [theme=dark] .colab-df-convert {\n",
              "      background-color: #3B4455;\n",
              "      fill: #D2E3FC;\n",
              "    }\n",
              "\n",
              "    [theme=dark] .colab-df-convert:hover {\n",
              "      background-color: #434B5C;\n",
              "      box-shadow: 0px 1px 3px 1px rgba(0, 0, 0, 0.15);\n",
              "      filter: drop-shadow(0px 1px 2px rgba(0, 0, 0, 0.3));\n",
              "      fill: #FFFFFF;\n",
              "    }\n",
              "  </style>\n",
              "\n",
              "    <script>\n",
              "      const buttonEl =\n",
              "        document.querySelector('#df-ca6d271d-708d-4607-bbfd-3e5de733ee68 button.colab-df-convert');\n",
              "      buttonEl.style.display =\n",
              "        google.colab.kernel.accessAllowed ? 'block' : 'none';\n",
              "\n",
              "      async function convertToInteractive(key) {\n",
              "        const element = document.querySelector('#df-ca6d271d-708d-4607-bbfd-3e5de733ee68');\n",
              "        const dataTable =\n",
              "          await google.colab.kernel.invokeFunction('convertToInteractive',\n",
              "                                                    [key], {});\n",
              "        if (!dataTable) return;\n",
              "\n",
              "        const docLinkHtml = 'Like what you see? Visit the ' +\n",
              "          '<a target=\"_blank\" href=https://colab.research.google.com/notebooks/data_table.ipynb>data table notebook</a>'\n",
              "          + ' to learn more about interactive tables.';\n",
              "        element.innerHTML = '';\n",
              "        dataTable['output_type'] = 'display_data';\n",
              "        await google.colab.output.renderOutput(dataTable, element);\n",
              "        const docLink = document.createElement('div');\n",
              "        docLink.innerHTML = docLinkHtml;\n",
              "        element.appendChild(docLink);\n",
              "      }\n",
              "    </script>\n",
              "  </div>\n",
              "\n",
              "\n",
              "<div id=\"df-1e1399ce-e0ff-47b0-9fbd-3787f0980e01\">\n",
              "  <button class=\"colab-df-quickchart\" onclick=\"quickchart('df-1e1399ce-e0ff-47b0-9fbd-3787f0980e01')\"\n",
              "            title=\"Suggest charts\"\n",
              "            style=\"display:none;\">\n",
              "\n",
              "<svg xmlns=\"http://www.w3.org/2000/svg\" height=\"24px\"viewBox=\"0 0 24 24\"\n",
              "     width=\"24px\">\n",
              "    <g>\n",
              "        <path d=\"M19 3H5c-1.1 0-2 .9-2 2v14c0 1.1.9 2 2 2h14c1.1 0 2-.9 2-2V5c0-1.1-.9-2-2-2zM9 17H7v-7h2v7zm4 0h-2V7h2v10zm4 0h-2v-4h2v4z\"/>\n",
              "    </g>\n",
              "</svg>\n",
              "  </button>\n",
              "\n",
              "<style>\n",
              "  .colab-df-quickchart {\n",
              "      --bg-color: #E8F0FE;\n",
              "      --fill-color: #1967D2;\n",
              "      --hover-bg-color: #E2EBFA;\n",
              "      --hover-fill-color: #174EA6;\n",
              "      --disabled-fill-color: #AAA;\n",
              "      --disabled-bg-color: #DDD;\n",
              "  }\n",
              "\n",
              "  [theme=dark] .colab-df-quickchart {\n",
              "      --bg-color: #3B4455;\n",
              "      --fill-color: #D2E3FC;\n",
              "      --hover-bg-color: #434B5C;\n",
              "      --hover-fill-color: #FFFFFF;\n",
              "      --disabled-bg-color: #3B4455;\n",
              "      --disabled-fill-color: #666;\n",
              "  }\n",
              "\n",
              "  .colab-df-quickchart {\n",
              "    background-color: var(--bg-color);\n",
              "    border: none;\n",
              "    border-radius: 50%;\n",
              "    cursor: pointer;\n",
              "    display: none;\n",
              "    fill: var(--fill-color);\n",
              "    height: 32px;\n",
              "    padding: 0;\n",
              "    width: 32px;\n",
              "  }\n",
              "\n",
              "  .colab-df-quickchart:hover {\n",
              "    background-color: var(--hover-bg-color);\n",
              "    box-shadow: 0 1px 2px rgba(60, 64, 67, 0.3), 0 1px 3px 1px rgba(60, 64, 67, 0.15);\n",
              "    fill: var(--button-hover-fill-color);\n",
              "  }\n",
              "\n",
              "  .colab-df-quickchart-complete:disabled,\n",
              "  .colab-df-quickchart-complete:disabled:hover {\n",
              "    background-color: var(--disabled-bg-color);\n",
              "    fill: var(--disabled-fill-color);\n",
              "    box-shadow: none;\n",
              "  }\n",
              "\n",
              "  .colab-df-spinner {\n",
              "    border: 2px solid var(--fill-color);\n",
              "    border-color: transparent;\n",
              "    border-bottom-color: var(--fill-color);\n",
              "    animation:\n",
              "      spin 1s steps(1) infinite;\n",
              "  }\n",
              "\n",
              "  @keyframes spin {\n",
              "    0% {\n",
              "      border-color: transparent;\n",
              "      border-bottom-color: var(--fill-color);\n",
              "      border-left-color: var(--fill-color);\n",
              "    }\n",
              "    20% {\n",
              "      border-color: transparent;\n",
              "      border-left-color: var(--fill-color);\n",
              "      border-top-color: var(--fill-color);\n",
              "    }\n",
              "    30% {\n",
              "      border-color: transparent;\n",
              "      border-left-color: var(--fill-color);\n",
              "      border-top-color: var(--fill-color);\n",
              "      border-right-color: var(--fill-color);\n",
              "    }\n",
              "    40% {\n",
              "      border-color: transparent;\n",
              "      border-right-color: var(--fill-color);\n",
              "      border-top-color: var(--fill-color);\n",
              "    }\n",
              "    60% {\n",
              "      border-color: transparent;\n",
              "      border-right-color: var(--fill-color);\n",
              "    }\n",
              "    80% {\n",
              "      border-color: transparent;\n",
              "      border-right-color: var(--fill-color);\n",
              "      border-bottom-color: var(--fill-color);\n",
              "    }\n",
              "    90% {\n",
              "      border-color: transparent;\n",
              "      border-bottom-color: var(--fill-color);\n",
              "    }\n",
              "  }\n",
              "</style>\n",
              "\n",
              "  <script>\n",
              "    async function quickchart(key) {\n",
              "      const quickchartButtonEl =\n",
              "        document.querySelector('#' + key + ' button');\n",
              "      quickchartButtonEl.disabled = true;  // To prevent multiple clicks.\n",
              "      quickchartButtonEl.classList.add('colab-df-spinner');\n",
              "      try {\n",
              "        const charts = await google.colab.kernel.invokeFunction(\n",
              "            'suggestCharts', [key], {});\n",
              "      } catch (error) {\n",
              "        console.error('Error during call to suggestCharts:', error);\n",
              "      }\n",
              "      quickchartButtonEl.classList.remove('colab-df-spinner');\n",
              "      quickchartButtonEl.classList.add('colab-df-quickchart-complete');\n",
              "    }\n",
              "    (() => {\n",
              "      let quickchartButtonEl =\n",
              "        document.querySelector('#df-1e1399ce-e0ff-47b0-9fbd-3787f0980e01 button');\n",
              "      quickchartButtonEl.style.display =\n",
              "        google.colab.kernel.accessAllowed ? 'block' : 'none';\n",
              "    })();\n",
              "  </script>\n",
              "</div>\n",
              "\n",
              "    </div>\n",
              "  </div>\n"
            ],
            "application/vnd.google.colaboratory.intrinsic+json": {
              "type": "dataframe",
              "summary": "{\n  \"name\": \"df\",\n  \"rows\": 4,\n  \"fields\": [\n    {\n      \"column\": \"output\",\n      \"properties\": {\n        \"dtype\": \"number\",\n        \"std\": 38,\n        \"min\": 24,\n        \"max\": 114,\n        \"num_unique_values\": 4,\n        \"samples\": [\n          72,\n          93,\n          24\n        ],\n        \"semantic_type\": \"\",\n        \"description\": \"\"\n      }\n    }\n  ]\n}"
            }
          },
          "metadata": {},
          "execution_count": 13
        }
      ]
    },
    {
      "cell_type": "code",
      "source": [
        "# Scatter plot of the cholestoral level against the age\n",
        "plt.figure(figsize=(6, 4))\n",
        "sns.scatterplot(x='age', y='chol', data=df)\n",
        "plt.title('Scatter plot of Cholesterol level against Age')\n",
        "plt.show()"
      ],
      "metadata": {
        "colab": {
          "base_uri": "https://localhost:8080/",
          "height": 419
        },
        "id": "c5DUX07D8fLu",
        "outputId": "932f6e3b-7e95-414f-d893-2684665169cf"
      },
      "execution_count": 14,
      "outputs": [
        {
          "output_type": "display_data",
          "data": {
            "text/plain": [
              "<Figure size 600x400 with 1 Axes>"
            ],
            "image/png": "[encoded data removed]"
          },
          "metadata": {}
        }
      ]
    },
    {
      "cell_type": "markdown",
      "source": [
        "Interpretation:\n",
        "\n",
        "*   The points are randomly distributed across the plot.\n",
        "*   This suggests that there is no correlation between age and chol."
      ],
      "metadata": {
        "id": "9oXU3sBQAlTO"
      }
    },
    {
      "cell_type": "code",
      "source": [
        "# Bar plot of the mean age of patients in each chest pain category\n",
        "plt.figure(figsize=(8, 6))\n",
        "sns.barplot(x='cp', y='age', data=df)\n",
        "plt.title('Mean age of patients in each chest pain category')\n",
        "plt.show()"
      ],
      "metadata": {
        "colab": {
          "base_uri": "https://localhost:8080/",
          "height": 573
        },
        "id": "chg-z0aUBV7S",
        "outputId": "b6094dfe-edf0-4769-b98b-31b259fe5e1c"
      },
      "execution_count": 15,
      "outputs": [
        {
          "output_type": "display_data",
          "data": {
            "text/plain": [
              "<Figure size 800x600 with 1 Axes>"
            ],
            "image/png": "[encoded data removed]"
          },
          "metadata": {}
        }
      ]
    },
    {
      "cell_type": "markdown",
      "source": [
        "\n",
        "\n",
        "*   The results of the bar plot suggest that chest pain category is not a strong predictor of age. However, age should still be considered when evaluating patients with chest pain.\n",
        "\n"
      ],
      "metadata": {
        "id": "sA4T-g1EtiRA"
      }
    },
    {
      "cell_type": "code",
      "source": [
        "# Bar plot of the mean cholesterol level (chol) for patients in each output category (output).\n",
        "sns.barplot(x='output',y='chol',data=df)"
      ],
      "metadata": {
        "id": "4B1CMMalCyB5",
        "colab": {
          "base_uri": "https://localhost:8080/",
          "height": 475
        },
        "outputId": "faf7cab3-3570-4486-f1cf-1035a2877c69"
      },
      "execution_count": 16,
      "outputs": [
        {
          "output_type": "execute_result",
          "data": {
            "text/plain": [
              "<Axes: xlabel='output', ylabel='chol'>"
            ]
          },
          "metadata": {},
          "execution_count": 16
        },
        {
          "output_type": "display_data",
          "data": {
            "text/plain": [
              "<Figure size 640x480 with 1 Axes>"
            ],
            "image/png": "[encoded data removed]"
          },
          "metadata": {}
        }
      ]
    },
    {
      "cell_type": "markdown",
      "source": [
        "## **Perform the train-test split**"
      ],
      "metadata": {
        "id": "qM904bxHqX5R"
      }
    },
    {
      "cell_type": "code",
      "source": [
        "# Split the DataFrame into features and target\n",
        "x = df.drop(['output'],axis=1)\n",
        "y = df['output']\n",
        "\n",
        "# Perform the train-test split\n",
        "x_train, x_test, y_train, y_test = train_test_split(x, y, test_size=0.2, random_state=0)"
      ],
      "metadata": {
        "id": "BKG8RIxq5Phq"
      },
      "execution_count": 17,
      "outputs": []
    },
    {
      "cell_type": "markdown",
      "source": [
        "## **Perform feature scaling**"
      ],
      "metadata": {
        "id": "YsjpSRnCIvlp"
      }
    },
    {
      "cell_type": "code",
      "source": [
        "# Perform the train-test split\n",
        "sc = StandardScaler()\n",
        "x_train = sc.fit_transform(x_train)\n",
        "x_test = sc.transform(x_test)"
      ],
      "metadata": {
        "id": "QS3m9I89qnYs"
      },
      "execution_count": 18,
      "outputs": []
    },
    {
      "cell_type": "markdown",
      "source": [
        "## **Logistic Regression**"
      ],
      "metadata": {
        "id": "gHwChlHIrFDx"
      }
    },
    {
      "cell_type": "code",
      "source": [
        "# Logistic Regression\n",
        "lr = LogisticRegression()\n",
        "lr.fit(x_train, y_train)\n",
        "lr_score = lr.score(x_test, y_test)\n",
        "ypred_lr = lr.predict(x_test)\n",
        "\n",
        "print(\"Logistic Regression Accuracy Score:\", lr_score)"
      ],
      "metadata": {
        "colab": {
          "base_uri": "https://localhost:8080/"
        },
        "id": "lU1hKX96JF_N",
        "outputId": "15ac073e-c7da-4094-858d-c38bb031a930"
      },
      "execution_count": 19,
      "outputs": [
        {
          "output_type": "stream",
          "name": "stdout",
          "text": [
            "Logistic Regression Accuracy Score: 0.8524590163934426\n"
          ]
        }
      ]
    },
    {
      "cell_type": "code",
      "source": [
        "# Compute the confusion matrix for the predictions\n",
        "c = confusion_matrix(y_test, ypred_lr)\n",
        "print(c)"
      ],
      "metadata": {
        "colab": {
          "base_uri": "https://localhost:8080/"
        },
        "id": "ASBh15hTrXiR",
        "outputId": "bbafb99f-36f6-42a1-9a2e-1fb3a3b0374e"
      },
      "execution_count": 20,
      "outputs": [
        {
          "output_type": "stream",
          "name": "stdout",
          "text": [
            "[[21  6]\n",
            " [ 3 31]]\n"
          ]
        }
      ]
    },
    {
      "cell_type": "code",
      "source": [
        "# Create a heatmap of the confusion matrix\n",
        "sns.heatmap(c)"
      ],
      "metadata": {
        "colab": {
          "base_uri": "https://localhost:8080/",
          "height": 451
        },
        "id": "IFrgvor3s2Gf",
        "outputId": "6a6f4070-7624-4a7d-d53d-c22f2fbf7769"
      },
      "execution_count": 21,
      "outputs": [
        {
          "output_type": "execute_result",
          "data": {
            "text/plain": [
              "<Axes: >"
            ]
          },
          "metadata": {},
          "execution_count": 21
        },
        {
          "output_type": "display_data",
          "data": {
            "text/plain": [
              "<Figure size 640x480 with 2 Axes>"
            ],
            "image/png": "[encoded data removed]"
          },
          "metadata": {}
        }
      ]
    },
    {
      "cell_type": "markdown",
      "source": [
        "## **SVC**"
      ],
      "metadata": {
        "id": "U7G3kdqKt63x"
      }
    },
    {
      "cell_type": "code",
      "source": [
        "sv = SVC()\n",
        "sv.fit(x_train, y_train)\n",
        "sv_score = sv.score(x_test, y_test)\n",
        "sv_predictions = sv.predict(x_test)\n",
        "print(\"SVC Accuracy Score:\", sv_score)"
      ],
      "metadata": {
        "colab": {
          "base_uri": "https://localhost:8080/"
        },
        "id": "f6sATLl0KBiK",
        "outputId": "2efd983a-400d-4e78-8f52-52829e4a0042"
      },
      "execution_count": 22,
      "outputs": [
        {
          "output_type": "stream",
          "name": "stdout",
          "text": [
            "SVC Accuracy Score: 0.8688524590163934\n"
          ]
        }
      ]
    },
    {
      "cell_type": "markdown",
      "source": [
        "## **Random Forest Classifier**"
      ],
      "metadata": {
        "id": "Z3Ss5sT-uwCQ"
      }
    },
    {
      "cell_type": "code",
      "source": [
        "rfc = RandomForestClassifier(n_estimators=200)\n",
        "rfc.fit(x_train, y_train)\n",
        "rfc_score = rfc.score(x_test, y_test)\n",
        "rfc_predictions = rfc.predict(x_test)\n",
        "print(\"Random Forest Classifier Accuracy Score:\", rfc_score)"
      ],
      "metadata": {
        "colab": {
          "base_uri": "https://localhost:8080/"
        },
        "id": "d5Kt4Dt-KOLw",
        "outputId": "6dd59bb9-0949-462f-c166-d41685fb461c"
      },
      "execution_count": 23,
      "outputs": [
        {
          "output_type": "stream",
          "name": "stdout",
          "text": [
            "Random Forest Classifier Accuracy Score: 0.8524590163934426\n"
          ]
        }
      ]
    },
    {
      "cell_type": "markdown",
      "source": [
        "\n",
        "\n",
        "*   This model can  predict the output for 83.6% of the data points correctly and it has a good performance.\n",
        "\n",
        "\n"
      ],
      "metadata": {
        "id": "IibOwccCx-7g"
      }
    },
    {
      "cell_type": "markdown",
      "source": [
        "## **K Nearest Neighbors**"
      ],
      "metadata": {
        "id": "Nbe2lg19ySYh"
      }
    },
    {
      "cell_type": "code",
      "source": [
        "kn = KNeighborsClassifier(n_neighbors=5)\n",
        "kn.fit(x_train, y_train)\n",
        "kn_score = kn.score(x_test, y_test)\n",
        "print(\"K Nearest Neighbours Accuracy Score:\", kn_score)"
      ],
      "metadata": {
        "colab": {
          "base_uri": "https://localhost:8080/"
        },
        "id": "6RvIqwNYK00J",
        "outputId": "cae496a1-21a6-432c-d874-c70d7a59eae3"
      },
      "execution_count": 24,
      "outputs": [
        {
          "output_type": "stream",
          "name": "stdout",
          "text": [
            "K Nearest Neighbours Accuracy Score: 0.819672131147541\n"
          ]
        }
      ]
    },
    {
      "cell_type": "markdown",
      "source": [
        "## **Neural network model using TensorFlow**"
      ],
      "metadata": {
        "id": "-D9P-SXqPTk1"
      }
    },
    {
      "cell_type": "code",
      "source": [
        "# Create the neural network model\n",
        "model = Sequential([\n",
        "    Dense(128, activation='relu', input_shape=(x_train.shape[1],)),\n",
        "    Dense(64, activation='relu'),\n",
        "    Dense(1, activation='sigmoid')\n",
        "])\n",
        "\n",
        "model.compile(optimizer='adam', loss='binary_crossentropy', metrics=['accuracy'])\n",
        "\n",
        "history = model.fit(x_train, y_train, epochs=100, batch_size=32, validation_split=0.2, verbose=1)"
      ],
      "metadata": {
        "colab": {
          "base_uri": "https://localhost:8080/"
        },
        "id": "AXRHC0C-PTQf",
        "outputId": "78e9bc27-818d-4034-fec3-024b55deaa87"
      },
      "execution_count": 25,
      "outputs": [
        {
          "output_type": "stream",
          "name": "stdout",
          "text": [
            "Epoch 1/100\n",
            "7/7 [==============================] - 3s 82ms/step - loss: 0.6543 - accuracy: 0.6839 - val_loss: 0.5686 - val_accuracy: 0.8163\n",
            "Epoch 2/100\n",
            "7/7 [==============================] - 0s 18ms/step - loss: 0.5490 - accuracy: 0.8394 - val_loss: 0.4923 - val_accuracy: 0.8776\n",
            "Epoch 3/100\n",
            "7/7 [==============================] - 0s 23ms/step - loss: 0.4893 - accuracy: 0.8601 - val_loss: 0.4424 - val_accuracy: 0.8776\n",
            "Epoch 4/100\n",
            "7/7 [==============================] - 0s 15ms/step - loss: 0.4459 - accuracy: 0.8653 - val_loss: 0.4078 - val_accuracy: 0.8776\n",
            "Epoch 5/100\n",
            "7/7 [==============================] - 0s 14ms/step - loss: 0.4119 - accuracy: 0.8705 - val_loss: 0.3805 - val_accuracy: 0.8776\n",
            "Epoch 6/100\n",
            "7/7 [==============================] - 0s 17ms/step - loss: 0.3874 - accuracy: 0.8653 - val_loss: 0.3590 - val_accuracy: 0.8776\n",
            "Epoch 7/100\n",
            "7/7 [==============================] - 0s 16ms/step - loss: 0.3700 - accuracy: 0.8601 - val_loss: 0.3477 - val_accuracy: 0.8776\n",
            "Epoch 8/100\n",
            "7/7 [==============================] - 0s 10ms/step - loss: 0.3543 - accuracy: 0.8549 - val_loss: 0.3373 - val_accuracy: 0.8776\n",
            "Epoch 9/100\n",
            "7/7 [==============================] - 0s 12ms/step - loss: 0.3436 - accuracy: 0.8601 - val_loss: 0.3206 - val_accuracy: 0.8776\n",
            "Epoch 10/100\n",
            "7/7 [==============================] - 0s 10ms/step - loss: 0.3374 - accuracy: 0.8601 - val_loss: 0.3110 - val_accuracy: 0.8776\n",
            "Epoch 11/100\n",
            "7/7 [==============================] - 0s 11ms/step - loss: 0.3306 - accuracy: 0.8705 - val_loss: 0.3050 - val_accuracy: 0.8776\n",
            "Epoch 12/100\n",
            "7/7 [==============================] - 0s 14ms/step - loss: 0.3199 - accuracy: 0.8601 - val_loss: 0.3093 - val_accuracy: 0.8980\n",
            "Epoch 13/100\n",
            "7/7 [==============================] - 0s 12ms/step - loss: 0.3162 - accuracy: 0.8601 - val_loss: 0.3081 - val_accuracy: 0.8776\n",
            "Epoch 14/100\n",
            "7/7 [==============================] - 0s 15ms/step - loss: 0.3136 - accuracy: 0.8808 - val_loss: 0.3075 - val_accuracy: 0.8571\n",
            "Epoch 15/100\n",
            "7/7 [==============================] - 0s 13ms/step - loss: 0.3091 - accuracy: 0.8756 - val_loss: 0.3080 - val_accuracy: 0.8776\n",
            "Epoch 16/100\n",
            "7/7 [==============================] - 0s 15ms/step - loss: 0.3017 - accuracy: 0.8756 - val_loss: 0.3058 - val_accuracy: 0.8980\n",
            "Epoch 17/100\n",
            "7/7 [==============================] - 0s 18ms/step - loss: 0.2948 - accuracy: 0.8756 - val_loss: 0.3037 - val_accuracy: 0.8980\n",
            "Epoch 18/100\n",
            "7/7 [==============================] - 0s 15ms/step - loss: 0.2899 - accuracy: 0.8756 - val_loss: 0.3063 - val_accuracy: 0.8980\n",
            "Epoch 19/100\n",
            "7/7 [==============================] - 0s 23ms/step - loss: 0.2844 - accuracy: 0.8756 - val_loss: 0.3048 - val_accuracy: 0.8776\n",
            "Epoch 20/100\n",
            "7/7 [==============================] - 0s 22ms/step - loss: 0.2822 - accuracy: 0.8912 - val_loss: 0.3011 - val_accuracy: 0.8367\n",
            "Epoch 21/100\n",
            "7/7 [==============================] - 0s 14ms/step - loss: 0.2819 - accuracy: 0.9016 - val_loss: 0.2982 - val_accuracy: 0.8367\n",
            "Epoch 22/100\n",
            "7/7 [==============================] - 0s 14ms/step - loss: 0.2753 - accuracy: 0.9016 - val_loss: 0.2970 - val_accuracy: 0.8776\n",
            "Epoch 23/100\n",
            "7/7 [==============================] - 0s 18ms/step - loss: 0.2676 - accuracy: 0.8964 - val_loss: 0.2969 - val_accuracy: 0.8776\n",
            "Epoch 24/100\n",
            "7/7 [==============================] - 0s 13ms/step - loss: 0.2618 - accuracy: 0.9016 - val_loss: 0.2965 - val_accuracy: 0.8980\n",
            "Epoch 25/100\n",
            "7/7 [==============================] - 0s 16ms/step - loss: 0.2554 - accuracy: 0.9016 - val_loss: 0.2954 - val_accuracy: 0.8980\n",
            "Epoch 26/100\n",
            "7/7 [==============================] - 0s 24ms/step - loss: 0.2540 - accuracy: 0.8912 - val_loss: 0.3130 - val_accuracy: 0.8367\n",
            "Epoch 27/100\n",
            "7/7 [==============================] - 0s 19ms/step - loss: 0.2508 - accuracy: 0.8912 - val_loss: 0.3123 - val_accuracy: 0.8367\n",
            "Epoch 28/100\n",
            "7/7 [==============================] - 0s 14ms/step - loss: 0.2500 - accuracy: 0.9171 - val_loss: 0.3140 - val_accuracy: 0.8163\n",
            "Epoch 29/100\n",
            "7/7 [==============================] - 0s 16ms/step - loss: 0.2524 - accuracy: 0.9016 - val_loss: 0.3133 - val_accuracy: 0.8367\n",
            "Epoch 30/100\n",
            "7/7 [==============================] - 0s 15ms/step - loss: 0.2504 - accuracy: 0.9016 - val_loss: 0.3091 - val_accuracy: 0.8571\n",
            "Epoch 31/100\n",
            "7/7 [==============================] - 0s 22ms/step - loss: 0.2389 - accuracy: 0.9171 - val_loss: 0.3010 - val_accuracy: 0.8571\n",
            "Epoch 32/100\n",
            "7/7 [==============================] - 0s 29ms/step - loss: 0.2317 - accuracy: 0.9171 - val_loss: 0.2984 - val_accuracy: 0.8571\n",
            "Epoch 33/100\n",
            "7/7 [==============================] - 0s 19ms/step - loss: 0.2269 - accuracy: 0.9275 - val_loss: 0.2980 - val_accuracy: 0.8571\n",
            "Epoch 34/100\n",
            "7/7 [==============================] - 0s 17ms/step - loss: 0.2219 - accuracy: 0.9275 - val_loss: 0.2975 - val_accuracy: 0.8571\n",
            "Epoch 35/100\n",
            "7/7 [==============================] - 0s 17ms/step - loss: 0.2168 - accuracy: 0.9275 - val_loss: 0.2946 - val_accuracy: 0.8776\n",
            "Epoch 36/100\n",
            "7/7 [==============================] - 0s 26ms/step - loss: 0.2126 - accuracy: 0.9223 - val_loss: 0.2939 - val_accuracy: 0.8776\n",
            "Epoch 37/100\n",
            "7/7 [==============================] - 0s 28ms/step - loss: 0.2069 - accuracy: 0.9275 - val_loss: 0.2938 - val_accuracy: 0.8776\n",
            "Epoch 38/100\n",
            "7/7 [==============================] - 0s 33ms/step - loss: 0.2023 - accuracy: 0.9275 - val_loss: 0.2902 - val_accuracy: 0.8980\n",
            "Epoch 39/100\n",
            "7/7 [==============================] - 0s 15ms/step - loss: 0.1971 - accuracy: 0.9378 - val_loss: 0.2905 - val_accuracy: 0.8980\n",
            "Epoch 40/100\n",
            "7/7 [==============================] - 0s 13ms/step - loss: 0.1925 - accuracy: 0.9378 - val_loss: 0.2898 - val_accuracy: 0.8980\n",
            "Epoch 41/100\n",
            "7/7 [==============================] - 0s 15ms/step - loss: 0.1882 - accuracy: 0.9378 - val_loss: 0.2921 - val_accuracy: 0.8980\n",
            "Epoch 42/100\n",
            "7/7 [==============================] - 0s 27ms/step - loss: 0.1842 - accuracy: 0.9378 - val_loss: 0.2941 - val_accuracy: 0.8980\n",
            "Epoch 43/100\n",
            "7/7 [==============================] - 0s 46ms/step - loss: 0.1800 - accuracy: 0.9430 - val_loss: 0.2929 - val_accuracy: 0.8980\n",
            "Epoch 44/100\n",
            "7/7 [==============================] - 0s 38ms/step - loss: 0.1756 - accuracy: 0.9534 - val_loss: 0.2948 - val_accuracy: 0.8776\n",
            "Epoch 45/100\n",
            "7/7 [==============================] - 0s 28ms/step - loss: 0.1774 - accuracy: 0.9378 - val_loss: 0.3166 - val_accuracy: 0.8776\n",
            "Epoch 46/100\n",
            "7/7 [==============================] - 0s 37ms/step - loss: 0.1892 - accuracy: 0.9326 - val_loss: 0.3267 - val_accuracy: 0.8571\n",
            "Epoch 47/100\n",
            "7/7 [==============================] - 0s 21ms/step - loss: 0.1857 - accuracy: 0.9326 - val_loss: 0.3106 - val_accuracy: 0.8776\n",
            "Epoch 48/100\n",
            "7/7 [==============================] - 0s 33ms/step - loss: 0.1752 - accuracy: 0.9378 - val_loss: 0.2975 - val_accuracy: 0.8776\n",
            "Epoch 49/100\n",
            "7/7 [==============================] - 0s 30ms/step - loss: 0.1666 - accuracy: 0.9534 - val_loss: 0.2907 - val_accuracy: 0.8776\n",
            "Epoch 50/100\n",
            "7/7 [==============================] - 0s 23ms/step - loss: 0.1597 - accuracy: 0.9534 - val_loss: 0.2910 - val_accuracy: 0.8776\n",
            "Epoch 51/100\n",
            "7/7 [==============================] - 0s 25ms/step - loss: 0.1550 - accuracy: 0.9585 - val_loss: 0.2944 - val_accuracy: 0.8776\n",
            "Epoch 52/100\n",
            "7/7 [==============================] - 0s 31ms/step - loss: 0.1499 - accuracy: 0.9637 - val_loss: 0.2960 - val_accuracy: 0.8776\n",
            "Epoch 53/100\n",
            "7/7 [==============================] - 0s 28ms/step - loss: 0.1458 - accuracy: 0.9637 - val_loss: 0.3046 - val_accuracy: 0.8776\n",
            "Epoch 54/100\n",
            "7/7 [==============================] - 0s 19ms/step - loss: 0.1444 - accuracy: 0.9585 - val_loss: 0.3250 - val_accuracy: 0.8776\n",
            "Epoch 55/100\n",
            "7/7 [==============================] - 0s 18ms/step - loss: 0.1410 - accuracy: 0.9793 - val_loss: 0.3127 - val_accuracy: 0.8980\n",
            "Epoch 56/100\n",
            "7/7 [==============================] - 0s 26ms/step - loss: 0.1452 - accuracy: 0.9689 - val_loss: 0.3065 - val_accuracy: 0.8980\n",
            "Epoch 57/100\n",
            "7/7 [==============================] - 0s 31ms/step - loss: 0.1417 - accuracy: 0.9689 - val_loss: 0.3010 - val_accuracy: 0.8776\n",
            "Epoch 58/100\n",
            "7/7 [==============================] - 0s 34ms/step - loss: 0.1339 - accuracy: 0.9793 - val_loss: 0.3082 - val_accuracy: 0.8980\n",
            "Epoch 59/100\n",
            "7/7 [==============================] - 0s 34ms/step - loss: 0.1327 - accuracy: 0.9793 - val_loss: 0.3511 - val_accuracy: 0.8571\n",
            "Epoch 60/100\n",
            "7/7 [==============================] - 0s 35ms/step - loss: 0.1396 - accuracy: 0.9741 - val_loss: 0.3586 - val_accuracy: 0.8571\n",
            "Epoch 61/100\n",
            "7/7 [==============================] - 0s 28ms/step - loss: 0.1318 - accuracy: 0.9741 - val_loss: 0.3462 - val_accuracy: 0.8776\n",
            "Epoch 62/100\n",
            "7/7 [==============================] - 0s 20ms/step - loss: 0.1218 - accuracy: 0.9741 - val_loss: 0.3400 - val_accuracy: 0.8776\n",
            "Epoch 63/100\n",
            "7/7 [==============================] - 0s 16ms/step - loss: 0.1166 - accuracy: 0.9793 - val_loss: 0.3351 - val_accuracy: 0.8776\n",
            "Epoch 64/100\n",
            "7/7 [==============================] - 0s 26ms/step - loss: 0.1158 - accuracy: 0.9741 - val_loss: 0.3337 - val_accuracy: 0.8571\n",
            "Epoch 65/100\n",
            "7/7 [==============================] - 0s 28ms/step - loss: 0.1131 - accuracy: 0.9845 - val_loss: 0.3296 - val_accuracy: 0.8571\n",
            "Epoch 66/100\n",
            "7/7 [==============================] - 0s 17ms/step - loss: 0.1074 - accuracy: 0.9845 - val_loss: 0.3245 - val_accuracy: 0.8776\n",
            "Epoch 67/100\n",
            "7/7 [==============================] - 0s 25ms/step - loss: 0.1027 - accuracy: 0.9845 - val_loss: 0.3230 - val_accuracy: 0.8980\n",
            "Epoch 68/100\n",
            "7/7 [==============================] - 0s 21ms/step - loss: 0.0987 - accuracy: 0.9845 - val_loss: 0.3244 - val_accuracy: 0.8980\n",
            "Epoch 69/100\n",
            "7/7 [==============================] - 0s 25ms/step - loss: 0.0963 - accuracy: 0.9845 - val_loss: 0.3231 - val_accuracy: 0.8980\n",
            "Epoch 70/100\n",
            "7/7 [==============================] - 0s 14ms/step - loss: 0.0926 - accuracy: 0.9845 - val_loss: 0.3252 - val_accuracy: 0.8980\n",
            "Epoch 71/100\n",
            "7/7 [==============================] - 0s 20ms/step - loss: 0.0892 - accuracy: 0.9896 - val_loss: 0.3283 - val_accuracy: 0.8980\n",
            "Epoch 72/100\n",
            "7/7 [==============================] - 0s 14ms/step - loss: 0.0861 - accuracy: 0.9896 - val_loss: 0.3336 - val_accuracy: 0.8980\n",
            "Epoch 73/100\n",
            "7/7 [==============================] - 0s 13ms/step - loss: 0.0832 - accuracy: 0.9896 - val_loss: 0.3425 - val_accuracy: 0.8980\n",
            "Epoch 74/100\n",
            "7/7 [==============================] - 0s 11ms/step - loss: 0.0827 - accuracy: 0.9896 - val_loss: 0.3481 - val_accuracy: 0.8980\n",
            "Epoch 75/100\n",
            "7/7 [==============================] - 0s 20ms/step - loss: 0.0805 - accuracy: 0.9896 - val_loss: 0.3515 - val_accuracy: 0.8980\n",
            "Epoch 76/100\n",
            "7/7 [==============================] - 0s 15ms/step - loss: 0.0777 - accuracy: 0.9896 - val_loss: 0.3494 - val_accuracy: 0.8980\n",
            "Epoch 77/100\n",
            "7/7 [==============================] - 0s 11ms/step - loss: 0.0750 - accuracy: 0.9896 - val_loss: 0.3514 - val_accuracy: 0.8980\n",
            "Epoch 78/100\n",
            "7/7 [==============================] - 0s 18ms/step - loss: 0.0728 - accuracy: 0.9896 - val_loss: 0.3537 - val_accuracy: 0.8980\n",
            "Epoch 79/100\n",
            "7/7 [==============================] - 0s 28ms/step - loss: 0.0705 - accuracy: 0.9896 - val_loss: 0.3528 - val_accuracy: 0.8980\n",
            "Epoch 80/100\n",
            "7/7 [==============================] - 0s 35ms/step - loss: 0.0690 - accuracy: 0.9896 - val_loss: 0.3529 - val_accuracy: 0.8980\n",
            "Epoch 81/100\n",
            "7/7 [==============================] - 0s 35ms/step - loss: 0.0679 - accuracy: 0.9896 - val_loss: 0.3495 - val_accuracy: 0.8980\n",
            "Epoch 82/100\n",
            "7/7 [==============================] - 0s 26ms/step - loss: 0.0681 - accuracy: 0.9896 - val_loss: 0.3374 - val_accuracy: 0.8980\n",
            "Epoch 83/100\n",
            "7/7 [==============================] - 0s 20ms/step - loss: 0.0685 - accuracy: 0.9896 - val_loss: 0.3258 - val_accuracy: 0.8980\n",
            "Epoch 84/100\n",
            "7/7 [==============================] - 0s 28ms/step - loss: 0.0822 - accuracy: 0.9793 - val_loss: 0.3356 - val_accuracy: 0.8980\n",
            "Epoch 85/100\n",
            "7/7 [==============================] - 0s 19ms/step - loss: 0.0775 - accuracy: 0.9845 - val_loss: 0.3602 - val_accuracy: 0.8776\n",
            "Epoch 86/100\n",
            "7/7 [==============================] - 0s 28ms/step - loss: 0.0683 - accuracy: 0.9896 - val_loss: 0.3805 - val_accuracy: 0.8776\n",
            "Epoch 87/100\n",
            "7/7 [==============================] - 0s 28ms/step - loss: 0.0636 - accuracy: 0.9896 - val_loss: 0.3868 - val_accuracy: 0.8776\n",
            "Epoch 88/100\n",
            "7/7 [==============================] - 0s 35ms/step - loss: 0.0594 - accuracy: 0.9896 - val_loss: 0.3853 - val_accuracy: 0.8776\n",
            "Epoch 89/100\n",
            "7/7 [==============================] - 0s 26ms/step - loss: 0.0568 - accuracy: 0.9948 - val_loss: 0.3852 - val_accuracy: 0.8776\n",
            "Epoch 90/100\n",
            "7/7 [==============================] - 0s 31ms/step - loss: 0.0541 - accuracy: 0.9948 - val_loss: 0.3827 - val_accuracy: 0.8776\n",
            "Epoch 91/100\n",
            "7/7 [==============================] - 0s 24ms/step - loss: 0.0522 - accuracy: 0.9948 - val_loss: 0.3802 - val_accuracy: 0.8980\n",
            "Epoch 92/100\n",
            "7/7 [==============================] - 0s 23ms/step - loss: 0.0506 - accuracy: 0.9948 - val_loss: 0.3820 - val_accuracy: 0.8980\n",
            "Epoch 93/100\n",
            "7/7 [==============================] - 0s 30ms/step - loss: 0.0494 - accuracy: 0.9948 - val_loss: 0.3889 - val_accuracy: 0.8776\n",
            "Epoch 94/100\n",
            "7/7 [==============================] - 0s 18ms/step - loss: 0.0483 - accuracy: 0.9948 - val_loss: 0.3861 - val_accuracy: 0.8980\n",
            "Epoch 95/100\n",
            "7/7 [==============================] - 0s 27ms/step - loss: 0.0481 - accuracy: 0.9948 - val_loss: 0.3698 - val_accuracy: 0.8980\n",
            "Epoch 96/100\n",
            "7/7 [==============================] - 0s 19ms/step - loss: 0.0504 - accuracy: 0.9948 - val_loss: 0.3772 - val_accuracy: 0.8980\n",
            "Epoch 97/100\n",
            "7/7 [==============================] - 0s 43ms/step - loss: 0.0491 - accuracy: 0.9948 - val_loss: 0.3896 - val_accuracy: 0.8980\n",
            "Epoch 98/100\n",
            "7/7 [==============================] - 0s 15ms/step - loss: 0.0458 - accuracy: 0.9948 - val_loss: 0.4054 - val_accuracy: 0.8980\n",
            "Epoch 99/100\n",
            "7/7 [==============================] - 0s 19ms/step - loss: 0.0429 - accuracy: 0.9948 - val_loss: 0.4166 - val_accuracy: 0.8776\n",
            "Epoch 100/100\n",
            "7/7 [==============================] - 0s 28ms/step - loss: 0.0417 - accuracy: 0.9948 - val_loss: 0.4242 - val_accuracy: 0.8776\n"
          ]
        }
      ]
    },
    {
      "cell_type": "code",
      "source": [
        "# Evaluate the model on the test set\n",
        "test_loss, test_accuracy = model.evaluate(x_test, y_test, verbose=0)\n",
        "print(f'Test Accuracy: {test_accuracy}')"
      ],
      "metadata": {
        "colab": {
          "base_uri": "https://localhost:8080/"
        },
        "id": "gjcNgh0GPj7-",
        "outputId": "0244bfee-8b3e-42ec-cdd3-28a6baf3d63b"
      },
      "execution_count": 26,
      "outputs": [
        {
          "output_type": "stream",
          "name": "stdout",
          "text": [
            "Test Accuracy: 0.8524590134620667\n"
          ]
        }
      ]
    },
    {
      "cell_type": "code",
      "source": [
        "# Plot training history\n",
        "plt.plot(history.history['accuracy'], label='Training Accuracy')\n",
        "plt.plot(history.history['val_accuracy'], label='Validation Accuracy')\n",
        "plt.title('Training and Validation Accuracy')\n",
        "plt.xlabel('Epoch')\n",
        "plt.ylabel('Accuracy')\n",
        "plt.legend()\n",
        "plt.show()"
      ],
      "metadata": {
        "colab": {
          "base_uri": "https://localhost:8080/",
          "height": 480
        },
        "id": "2RMBa-_nQZh9",
        "outputId": "dbf41304-7f44-46b0-8785-a713f19a8ba2"
      },
      "execution_count": 27,
      "outputs": [
        {
          "output_type": "display_data",
          "data": {
            "text/plain": [
              "<Figure size 640x480 with 1 Axes>"
            ],
            "image/png": "[encoded data removed]"
          },
          "metadata": {}
        }
      ]
    },
    {
      "cell_type": "code",
      "source": [
        "# Create the neural network model\n",
        "model = Sequential([\n",
        "    Dense(128, activation='relu', input_shape=(x_train.shape[1],)),\n",
        "    Dropout(0.2),  # Adding dropout for regularization\n",
        "    Dense(64, activation='relu'),\n",
        "    Dropout(0.2),  # Adding dropout for regularization\n",
        "    Dense(1, activation='sigmoid')\n",
        "])\n",
        "\n",
        "# Using Adam optimizer with a lower learning rate\n",
        "optimizer = Adam(learning_rate=0.001)\n",
        "model.compile(optimizer=optimizer, loss='binary_crossentropy', metrics=['accuracy'])\n",
        "\n",
        "\n",
        "history = model.fit(x_train, y_train, epochs=100, batch_size=64, validation_split=0.2, verbose=1,)"
      ],
      "metadata": {
        "colab": {
          "base_uri": "https://localhost:8080/"
        },
        "id": "n9qT7oICRDy4",
        "outputId": "1bf5af30-2492-4247-a454-0dae1c873eb0"
      },
      "execution_count": 46,
      "outputs": [
        {
          "output_type": "stream",
          "name": "stdout",
          "text": [
            "Epoch 1/100\n",
            "4/4 [==============================] - 1s 64ms/step - loss: 0.7627 - accuracy: 0.4249 - val_loss: 0.7166 - val_accuracy: 0.5102\n",
            "Epoch 2/100\n",
            "4/4 [==============================] - 0s 12ms/step - loss: 0.6607 - accuracy: 0.6477 - val_loss: 0.6424 - val_accuracy: 0.6939\n",
            "Epoch 3/100\n",
            "4/4 [==============================] - 0s 12ms/step - loss: 0.6111 - accuracy: 0.7306 - val_loss: 0.5886 - val_accuracy: 0.7551\n",
            "Epoch 4/100\n",
            "4/4 [==============================] - 0s 12ms/step - loss: 0.5659 - accuracy: 0.7617 - val_loss: 0.5516 - val_accuracy: 0.7755\n",
            "Epoch 5/100\n",
            "4/4 [==============================] - 0s 12ms/step - loss: 0.5329 - accuracy: 0.7824 - val_loss: 0.5208 - val_accuracy: 0.7755\n",
            "Epoch 6/100\n",
            "4/4 [==============================] - 0s 12ms/step - loss: 0.5057 - accuracy: 0.8031 - val_loss: 0.4930 - val_accuracy: 0.7755\n",
            "Epoch 7/100\n",
            "4/4 [==============================] - 0s 12ms/step - loss: 0.5007 - accuracy: 0.8083 - val_loss: 0.4719 - val_accuracy: 0.7755\n",
            "Epoch 8/100\n",
            "4/4 [==============================] - 0s 13ms/step - loss: 0.4695 - accuracy: 0.8394 - val_loss: 0.4575 - val_accuracy: 0.7755\n",
            "Epoch 9/100\n",
            "4/4 [==============================] - 0s 18ms/step - loss: 0.4629 - accuracy: 0.8342 - val_loss: 0.4449 - val_accuracy: 0.7755\n",
            "Epoch 10/100\n",
            "4/4 [==============================] - 0s 18ms/step - loss: 0.4514 - accuracy: 0.8238 - val_loss: 0.4324 - val_accuracy: 0.7755\n",
            "Epoch 11/100\n",
            "4/4 [==============================] - 0s 15ms/step - loss: 0.4353 - accuracy: 0.8187 - val_loss: 0.4214 - val_accuracy: 0.7551\n",
            "Epoch 12/100\n",
            "4/4 [==============================] - 0s 15ms/step - loss: 0.4239 - accuracy: 0.8290 - val_loss: 0.4133 - val_accuracy: 0.7551\n",
            "Epoch 13/100\n",
            "4/4 [==============================] - 0s 20ms/step - loss: 0.4321 - accuracy: 0.8083 - val_loss: 0.4060 - val_accuracy: 0.7551\n",
            "Epoch 14/100\n",
            "4/4 [==============================] - 0s 21ms/step - loss: 0.3946 - accuracy: 0.8446 - val_loss: 0.4011 - val_accuracy: 0.7755\n",
            "Epoch 15/100\n",
            "4/4 [==============================] - 0s 23ms/step - loss: 0.3984 - accuracy: 0.8446 - val_loss: 0.3968 - val_accuracy: 0.7755\n",
            "Epoch 16/100\n",
            "4/4 [==============================] - 0s 21ms/step - loss: 0.3707 - accuracy: 0.8601 - val_loss: 0.3934 - val_accuracy: 0.7755\n",
            "Epoch 17/100\n",
            "4/4 [==============================] - 0s 22ms/step - loss: 0.3769 - accuracy: 0.8549 - val_loss: 0.3907 - val_accuracy: 0.7959\n",
            "Epoch 18/100\n",
            "4/4 [==============================] - 0s 16ms/step - loss: 0.3814 - accuracy: 0.8342 - val_loss: 0.3866 - val_accuracy: 0.7959\n",
            "Epoch 19/100\n",
            "4/4 [==============================] - 0s 15ms/step - loss: 0.3811 - accuracy: 0.8342 - val_loss: 0.3814 - val_accuracy: 0.7959\n",
            "Epoch 20/100\n",
            "4/4 [==============================] - 0s 17ms/step - loss: 0.3576 - accuracy: 0.8601 - val_loss: 0.3780 - val_accuracy: 0.8163\n",
            "Epoch 21/100\n",
            "4/4 [==============================] - 0s 22ms/step - loss: 0.3488 - accuracy: 0.8446 - val_loss: 0.3736 - val_accuracy: 0.8163\n",
            "Epoch 22/100\n",
            "4/4 [==============================] - 0s 15ms/step - loss: 0.3554 - accuracy: 0.8549 - val_loss: 0.3716 - val_accuracy: 0.8367\n",
            "Epoch 23/100\n",
            "4/4 [==============================] - 0s 19ms/step - loss: 0.3580 - accuracy: 0.8446 - val_loss: 0.3724 - val_accuracy: 0.8367\n",
            "Epoch 24/100\n",
            "4/4 [==============================] - 0s 22ms/step - loss: 0.3641 - accuracy: 0.8497 - val_loss: 0.3724 - val_accuracy: 0.8367\n",
            "Epoch 25/100\n",
            "4/4 [==============================] - 0s 16ms/step - loss: 0.3394 - accuracy: 0.8653 - val_loss: 0.3652 - val_accuracy: 0.8367\n",
            "Epoch 26/100\n",
            "4/4 [==============================] - 0s 18ms/step - loss: 0.3244 - accuracy: 0.8705 - val_loss: 0.3585 - val_accuracy: 0.8163\n",
            "Epoch 27/100\n",
            "4/4 [==============================] - 0s 12ms/step - loss: 0.3324 - accuracy: 0.8756 - val_loss: 0.3550 - val_accuracy: 0.8163\n",
            "Epoch 28/100\n",
            "4/4 [==============================] - 0s 11ms/step - loss: 0.3358 - accuracy: 0.8549 - val_loss: 0.3541 - val_accuracy: 0.8367\n",
            "Epoch 29/100\n",
            "4/4 [==============================] - 0s 12ms/step - loss: 0.3469 - accuracy: 0.8238 - val_loss: 0.3535 - val_accuracy: 0.8163\n",
            "Epoch 30/100\n",
            "4/4 [==============================] - 0s 11ms/step - loss: 0.3268 - accuracy: 0.8653 - val_loss: 0.3526 - val_accuracy: 0.8163\n",
            "Epoch 31/100\n",
            "4/4 [==============================] - 0s 13ms/step - loss: 0.3232 - accuracy: 0.8964 - val_loss: 0.3504 - val_accuracy: 0.8367\n",
            "Epoch 32/100\n",
            "4/4 [==============================] - 0s 14ms/step - loss: 0.3431 - accuracy: 0.8394 - val_loss: 0.3466 - val_accuracy: 0.8367\n",
            "Epoch 33/100\n",
            "4/4 [==============================] - 0s 13ms/step - loss: 0.3076 - accuracy: 0.8808 - val_loss: 0.3434 - val_accuracy: 0.8367\n",
            "Epoch 34/100\n",
            "4/4 [==============================] - 0s 14ms/step - loss: 0.3388 - accuracy: 0.8601 - val_loss: 0.3414 - val_accuracy: 0.8367\n",
            "Epoch 35/100\n",
            "4/4 [==============================] - 0s 12ms/step - loss: 0.3178 - accuracy: 0.8705 - val_loss: 0.3408 - val_accuracy: 0.8163\n",
            "Epoch 36/100\n",
            "4/4 [==============================] - 0s 12ms/step - loss: 0.3250 - accuracy: 0.8601 - val_loss: 0.3413 - val_accuracy: 0.8367\n",
            "Epoch 37/100\n",
            "4/4 [==============================] - 0s 12ms/step - loss: 0.3102 - accuracy: 0.8756 - val_loss: 0.3405 - val_accuracy: 0.8367\n",
            "Epoch 38/100\n",
            "4/4 [==============================] - 0s 12ms/step - loss: 0.3140 - accuracy: 0.8756 - val_loss: 0.3397 - val_accuracy: 0.8367\n",
            "Epoch 39/100\n",
            "4/4 [==============================] - 0s 12ms/step - loss: 0.3212 - accuracy: 0.8549 - val_loss: 0.3390 - val_accuracy: 0.8367\n",
            "Epoch 40/100\n",
            "4/4 [==============================] - 0s 17ms/step - loss: 0.2962 - accuracy: 0.8808 - val_loss: 0.3393 - val_accuracy: 0.8367\n",
            "Epoch 41/100\n",
            "4/4 [==============================] - 0s 18ms/step - loss: 0.3335 - accuracy: 0.8601 - val_loss: 0.3403 - val_accuracy: 0.8367\n",
            "Epoch 42/100\n",
            "4/4 [==============================] - 0s 16ms/step - loss: 0.3362 - accuracy: 0.8549 - val_loss: 0.3460 - val_accuracy: 0.8163\n",
            "Epoch 43/100\n",
            "4/4 [==============================] - 0s 13ms/step - loss: 0.3024 - accuracy: 0.8808 - val_loss: 0.3516 - val_accuracy: 0.8163\n",
            "Epoch 44/100\n",
            "4/4 [==============================] - 0s 13ms/step - loss: 0.3141 - accuracy: 0.8860 - val_loss: 0.3549 - val_accuracy: 0.8163\n",
            "Epoch 45/100\n",
            "4/4 [==============================] - 0s 14ms/step - loss: 0.3186 - accuracy: 0.8601 - val_loss: 0.3561 - val_accuracy: 0.8163\n",
            "Epoch 46/100\n",
            "4/4 [==============================] - 0s 15ms/step - loss: 0.3265 - accuracy: 0.8601 - val_loss: 0.3563 - val_accuracy: 0.8367\n",
            "Epoch 47/100\n",
            "4/4 [==============================] - 0s 21ms/step - loss: 0.3042 - accuracy: 0.8860 - val_loss: 0.3559 - val_accuracy: 0.8367\n",
            "Epoch 48/100\n",
            "4/4 [==============================] - 0s 15ms/step - loss: 0.3115 - accuracy: 0.8549 - val_loss: 0.3536 - val_accuracy: 0.8367\n",
            "Epoch 49/100\n",
            "4/4 [==============================] - 0s 13ms/step - loss: 0.3072 - accuracy: 0.8912 - val_loss: 0.3502 - val_accuracy: 0.8163\n",
            "Epoch 50/100\n",
            "4/4 [==============================] - 0s 15ms/step - loss: 0.3124 - accuracy: 0.8756 - val_loss: 0.3471 - val_accuracy: 0.8163\n",
            "Epoch 51/100\n",
            "4/4 [==============================] - 0s 21ms/step - loss: 0.2819 - accuracy: 0.8756 - val_loss: 0.3446 - val_accuracy: 0.8163\n",
            "Epoch 52/100\n",
            "4/4 [==============================] - 0s 20ms/step - loss: 0.3089 - accuracy: 0.8601 - val_loss: 0.3428 - val_accuracy: 0.8367\n",
            "Epoch 53/100\n",
            "4/4 [==============================] - 0s 20ms/step - loss: 0.2899 - accuracy: 0.8756 - val_loss: 0.3402 - val_accuracy: 0.8367\n",
            "Epoch 54/100\n",
            "4/4 [==============================] - 0s 26ms/step - loss: 0.2833 - accuracy: 0.8705 - val_loss: 0.3376 - val_accuracy: 0.8571\n",
            "Epoch 55/100\n",
            "4/4 [==============================] - 0s 26ms/step - loss: 0.2964 - accuracy: 0.8705 - val_loss: 0.3359 - val_accuracy: 0.8571\n",
            "Epoch 56/100\n",
            "4/4 [==============================] - 0s 20ms/step - loss: 0.2903 - accuracy: 0.8756 - val_loss: 0.3347 - val_accuracy: 0.8571\n",
            "Epoch 57/100\n",
            "4/4 [==============================] - 0s 28ms/step - loss: 0.3019 - accuracy: 0.8912 - val_loss: 0.3337 - val_accuracy: 0.8571\n",
            "Epoch 58/100\n",
            "4/4 [==============================] - 0s 26ms/step - loss: 0.2931 - accuracy: 0.8653 - val_loss: 0.3317 - val_accuracy: 0.8571\n",
            "Epoch 59/100\n",
            "4/4 [==============================] - 0s 24ms/step - loss: 0.2974 - accuracy: 0.8808 - val_loss: 0.3302 - val_accuracy: 0.8571\n",
            "Epoch 60/100\n",
            "4/4 [==============================] - 0s 23ms/step - loss: 0.2897 - accuracy: 0.8705 - val_loss: 0.3292 - val_accuracy: 0.8571\n",
            "Epoch 61/100\n",
            "4/4 [==============================] - 0s 24ms/step - loss: 0.2955 - accuracy: 0.8653 - val_loss: 0.3292 - val_accuracy: 0.8571\n",
            "Epoch 62/100\n",
            "4/4 [==============================] - 0s 23ms/step - loss: 0.2704 - accuracy: 0.8912 - val_loss: 0.3305 - val_accuracy: 0.8367\n",
            "Epoch 63/100\n",
            "4/4 [==============================] - 0s 18ms/step - loss: 0.2893 - accuracy: 0.8860 - val_loss: 0.3351 - val_accuracy: 0.8776\n",
            "Epoch 64/100\n",
            "4/4 [==============================] - 0s 25ms/step - loss: 0.2972 - accuracy: 0.8808 - val_loss: 0.3351 - val_accuracy: 0.8571\n",
            "Epoch 65/100\n",
            "4/4 [==============================] - 0s 23ms/step - loss: 0.2815 - accuracy: 0.8912 - val_loss: 0.3295 - val_accuracy: 0.8571\n",
            "Epoch 66/100\n",
            "4/4 [==============================] - 0s 23ms/step - loss: 0.2826 - accuracy: 0.8808 - val_loss: 0.3296 - val_accuracy: 0.8571\n",
            "Epoch 67/100\n",
            "4/4 [==============================] - 0s 16ms/step - loss: 0.2819 - accuracy: 0.8912 - val_loss: 0.3326 - val_accuracy: 0.8367\n",
            "Epoch 68/100\n",
            "4/4 [==============================] - 0s 15ms/step - loss: 0.2756 - accuracy: 0.8860 - val_loss: 0.3351 - val_accuracy: 0.8163\n",
            "Epoch 69/100\n",
            "4/4 [==============================] - 0s 15ms/step - loss: 0.2819 - accuracy: 0.8860 - val_loss: 0.3387 - val_accuracy: 0.8367\n",
            "Epoch 70/100\n",
            "4/4 [==============================] - 0s 22ms/step - loss: 0.2835 - accuracy: 0.8808 - val_loss: 0.3405 - val_accuracy: 0.8571\n",
            "Epoch 71/100\n",
            "4/4 [==============================] - 0s 24ms/step - loss: 0.2898 - accuracy: 0.8705 - val_loss: 0.3393 - val_accuracy: 0.8571\n",
            "Epoch 72/100\n",
            "4/4 [==============================] - 0s 23ms/step - loss: 0.2787 - accuracy: 0.8912 - val_loss: 0.3390 - val_accuracy: 0.8571\n",
            "Epoch 73/100\n",
            "4/4 [==============================] - 0s 32ms/step - loss: 0.2757 - accuracy: 0.9016 - val_loss: 0.3394 - val_accuracy: 0.8571\n",
            "Epoch 74/100\n",
            "4/4 [==============================] - 0s 21ms/step - loss: 0.2699 - accuracy: 0.8912 - val_loss: 0.3391 - val_accuracy: 0.8367\n",
            "Epoch 75/100\n",
            "4/4 [==============================] - 0s 32ms/step - loss: 0.2614 - accuracy: 0.8964 - val_loss: 0.3390 - val_accuracy: 0.8571\n",
            "Epoch 76/100\n",
            "4/4 [==============================] - 0s 62ms/step - loss: 0.2705 - accuracy: 0.8860 - val_loss: 0.3400 - val_accuracy: 0.8571\n",
            "Epoch 77/100\n",
            "4/4 [==============================] - 0s 87ms/step - loss: 0.2694 - accuracy: 0.8705 - val_loss: 0.3412 - val_accuracy: 0.8571\n",
            "Epoch 78/100\n",
            "4/4 [==============================] - 0s 54ms/step - loss: 0.3013 - accuracy: 0.8912 - val_loss: 0.3412 - val_accuracy: 0.8571\n",
            "Epoch 79/100\n",
            "4/4 [==============================] - 0s 57ms/step - loss: 0.2680 - accuracy: 0.8860 - val_loss: 0.3403 - val_accuracy: 0.8571\n",
            "Epoch 80/100\n",
            "4/4 [==============================] - 0s 47ms/step - loss: 0.2694 - accuracy: 0.8964 - val_loss: 0.3371 - val_accuracy: 0.8571\n",
            "Epoch 81/100\n",
            "4/4 [==============================] - 0s 50ms/step - loss: 0.2928 - accuracy: 0.8808 - val_loss: 0.3348 - val_accuracy: 0.8571\n",
            "Epoch 82/100\n",
            "4/4 [==============================] - 0s 35ms/step - loss: 0.2767 - accuracy: 0.8705 - val_loss: 0.3337 - val_accuracy: 0.8571\n",
            "Epoch 83/100\n",
            "4/4 [==============================] - 0s 39ms/step - loss: 0.2724 - accuracy: 0.9067 - val_loss: 0.3338 - val_accuracy: 0.8571\n",
            "Epoch 84/100\n",
            "4/4 [==============================] - 0s 30ms/step - loss: 0.2666 - accuracy: 0.9067 - val_loss: 0.3345 - val_accuracy: 0.8571\n",
            "Epoch 85/100\n",
            "4/4 [==============================] - 0s 33ms/step - loss: 0.2629 - accuracy: 0.8860 - val_loss: 0.3376 - val_accuracy: 0.8571\n",
            "Epoch 86/100\n",
            "4/4 [==============================] - 0s 27ms/step - loss: 0.2590 - accuracy: 0.8808 - val_loss: 0.3395 - val_accuracy: 0.8571\n",
            "Epoch 87/100\n",
            "4/4 [==============================] - 0s 27ms/step - loss: 0.2786 - accuracy: 0.8860 - val_loss: 0.3360 - val_accuracy: 0.8571\n",
            "Epoch 88/100\n",
            "4/4 [==============================] - 0s 25ms/step - loss: 0.2731 - accuracy: 0.8860 - val_loss: 0.3306 - val_accuracy: 0.8367\n",
            "Epoch 89/100\n",
            "4/4 [==============================] - 0s 30ms/step - loss: 0.2704 - accuracy: 0.8964 - val_loss: 0.3292 - val_accuracy: 0.8571\n",
            "Epoch 90/100\n",
            "4/4 [==============================] - 0s 28ms/step - loss: 0.2704 - accuracy: 0.9171 - val_loss: 0.3286 - val_accuracy: 0.8571\n",
            "Epoch 91/100\n",
            "4/4 [==============================] - 0s 24ms/step - loss: 0.2642 - accuracy: 0.8808 - val_loss: 0.3292 - val_accuracy: 0.8571\n",
            "Epoch 92/100\n",
            "4/4 [==============================] - 0s 34ms/step - loss: 0.2439 - accuracy: 0.9171 - val_loss: 0.3300 - val_accuracy: 0.8571\n",
            "Epoch 93/100\n",
            "4/4 [==============================] - 0s 27ms/step - loss: 0.2459 - accuracy: 0.8912 - val_loss: 0.3284 - val_accuracy: 0.8571\n",
            "Epoch 94/100\n",
            "4/4 [==============================] - 0s 25ms/step - loss: 0.2571 - accuracy: 0.9016 - val_loss: 0.3270 - val_accuracy: 0.8571\n",
            "Epoch 95/100\n",
            "4/4 [==============================] - 0s 25ms/step - loss: 0.2464 - accuracy: 0.9067 - val_loss: 0.3264 - val_accuracy: 0.8367\n",
            "Epoch 96/100\n",
            "4/4 [==============================] - 0s 26ms/step - loss: 0.2517 - accuracy: 0.9119 - val_loss: 0.3261 - val_accuracy: 0.8367\n",
            "Epoch 97/100\n",
            "4/4 [==============================] - 0s 26ms/step - loss: 0.2529 - accuracy: 0.9016 - val_loss: 0.3269 - val_accuracy: 0.8367\n",
            "Epoch 98/100\n",
            "4/4 [==============================] - 0s 24ms/step - loss: 0.2471 - accuracy: 0.8860 - val_loss: 0.3278 - val_accuracy: 0.8367\n",
            "Epoch 99/100\n",
            "4/4 [==============================] - 0s 25ms/step - loss: 0.2669 - accuracy: 0.8964 - val_loss: 0.3286 - val_accuracy: 0.8571\n",
            "Epoch 100/100\n",
            "4/4 [==============================] - 0s 25ms/step - loss: 0.2529 - accuracy: 0.9067 - val_loss: 0.3303 - val_accuracy: 0.8571\n"
          ]
        }
      ]
    },
    {
      "cell_type": "code",
      "source": [
        "# Plot training history\n",
        "plt.plot(history.history['accuracy'], label='Training Accuracy')\n",
        "plt.plot(history.history['val_accuracy'], label='Validation Accuracy')\n",
        "plt.title('Training and Validation Accuracy')\n",
        "plt.xlabel('Epoch')\n",
        "plt.ylabel('Accuracy')\n",
        "plt.legend()\n",
        "plt.show()"
      ],
      "metadata": {
        "colab": {
          "base_uri": "https://localhost:8080/",
          "height": 480
        },
        "id": "aItGg7m7WNkB",
        "outputId": "1bdbe095-bee8-4ca8-b4ce-1a2417fd1a0f"
      },
      "execution_count": 47,
      "outputs": [
        {
          "output_type": "display_data",
          "data": {
            "text/plain": [
              "<Figure size 640x480 with 1 Axes>"
            ],
            "image/png": "[encoded data removed]"
          },
          "metadata": {}
        }
      ]
    },
    {
      "cell_type": "code",
      "source": [
        "nn_predictions = model.predict(x_test)"
      ],
      "metadata": {
        "colab": {
          "base_uri": "https://localhost:8080/"
        },
        "id": "rsAMmzdOT2W-",
        "outputId": "4790e503-24b6-40e7-aa60-5e24e592a29c"
      },
      "execution_count": 48,
      "outputs": [
        {
          "output_type": "stream",
          "name": "stdout",
          "text": [
            "2/2 [==============================] - 0s 6ms/step\n"
          ]
        }
      ]
    },
    {
      "cell_type": "code",
      "source": [
        "# Evaluate the model on the test data\n",
        "test_loss, test_accuracy = model.evaluate(x_test, y_test)\n",
        "\n",
        "print(\"Test Loss:\", test_loss)\n",
        "print(\"Test Accuracy:\", test_accuracy)"
      ],
      "metadata": {
        "colab": {
          "base_uri": "https://localhost:8080/"
        },
        "id": "zKgaYvLyRR2H",
        "outputId": "51ed7031-24c3-4a3e-e151-fdbea47d3a4f"
      },
      "execution_count": 49,
      "outputs": [
        {
          "output_type": "stream",
          "name": "stdout",
          "text": [
            "2/2 [==============================] - 0s 6ms/step - loss: 0.3362 - accuracy: 0.9016\n",
            "Test Loss: 0.33619198203086853\n",
            "Test Accuracy: 0.9016393423080444\n"
          ]
        }
      ]
    },
    {
      "cell_type": "markdown",
      "source": [
        "## **Visualize the Scores**"
      ],
      "metadata": {
        "id": "WebwdABIMlhl"
      }
    },
    {
      "cell_type": "code",
      "source": [
        "scores = {\n",
        "    'Logistic Regression': lr_score,\n",
        "    'SVC': sv_score,\n",
        "    'Random Forest Classifier': rfc_score,\n",
        "    'K Nearest Neighbors': kn_score,\n",
        "    'Neural Networks': test_accuracy,\n",
        "}"
      ],
      "metadata": {
        "id": "5RDySvjANABN"
      },
      "execution_count": 50,
      "outputs": []
    },
    {
      "cell_type": "code",
      "source": [
        "# Plot the scores\n",
        "plt.figure(figsize=(6, 5))\n",
        "plt.plot(list(scores.keys()), list(scores.values()), marker='o', linestyle='-')\n",
        "plt.title('Accuracy Scores of Machine Learning Models')\n",
        "plt.xlabel('Models')\n",
        "plt.ylabel('Scores')\n",
        "plt.xticks(rotation=45)\n",
        "plt.grid(True)\n",
        "plt.tight_layout()\n",
        "plt.show()"
      ],
      "metadata": {
        "colab": {
          "base_uri": "https://localhost:8080/",
          "height": 501
        },
        "id": "MqR2vL9_NDjs",
        "outputId": "51ec7eae-4de3-472a-d84a-946b20e1ff80"
      },
      "execution_count": 52,
      "outputs": [
        {
          "output_type": "display_data",
          "data": {
            "text/plain": [
              "<Figure size 600x500 with 1 Axes>"
            ],
            "image/png": "[encoded data removed]"
          },
          "metadata": {}
        }
      ]
    }
  ]
}